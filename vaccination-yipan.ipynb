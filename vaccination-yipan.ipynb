{
 "cells": [
  {
   "attachments": {},
   "cell_type": "markdown",
   "id": "44733ebd",
   "metadata": {},
   "source": [
    "Determine Vaccination Rate across the nation - Yi\n",
    "Vaccination rate by state, age, sex\n",
    "Population picture (Education level, population density etc)\n",
    "Find the correlation between vaccination rate and the population picture, discover the driver of the rate"
   ]
  },
  {
   "attachments": {},
   "cell_type": "markdown",
   "id": "7b41912a",
   "metadata": {},
   "source": [
    "Percent of the Total Population with at Least One Dose by States"
   ]
  },
  {
   "cell_type": "code",
   "execution_count": 34,
   "id": "c09ed171",
   "metadata": {},
   "outputs": [],
   "source": [
    "import pandas as pd\n",
    "from sodapy import Socrata # This is the database that contain all the CDC covid vacction information\n",
    "import plotly.graph_objects as go\n"
   ]
  },
  {
   "cell_type": "code",
   "execution_count": 35,
   "id": "e50f9dfd",
   "metadata": {},
   "outputs": [
    {
     "name": "stderr",
     "output_type": "stream",
     "text": [
      "WARNING:root:Requests made without an app_token will be subject to strict throttling limits.\n"
     ]
    }
   ],
   "source": [
    "\n",
    "client = Socrata(\"data.cdc.gov\", None) #Pulling CDC data from Socrata\n",
    "\n",
    "# Filter to only 2023/03/15 data, returned as JSON from API / converted to Python list of\n",
    "# dictionaries by sodapy.\n",
    "results = client.get(\"unsk-b7fc\", where=\"date='2023-03-15T00:00:00.000'\")\n",
    "\n",
    "# Convert to pandas DataFrame\n",
    "results_df = pd.DataFrame.from_records(results)"
   ]
  },
  {
   "cell_type": "code",
   "execution_count": 111,
   "metadata": {},
   "outputs": [
    {
     "data": {
      "text/plain": [
       "50"
      ]
     },
     "execution_count": 111,
     "metadata": {},
     "output_type": "execute_result"
    }
   ],
   "source": [
    "state_set = [\"AK\",\"AL\",\"AR\",\"AZ\",\"CA\",\"CO\",\"CT\",\"DE\",\"FL\",\"GA\",\"HI\",\"IA\",\"ID\",\"IL\",\"IN\",\"KS\",\"KY\",\"LA\",\"MA\",\"MD\",\"ME\",\"MI\",\"MN\",\"MO\",\"MS\",\"MT\",\"NC\",\"ND\",\"NE\",\"NH\",\"NJ\",\"NM\",\"NV\",\"NY\",\"OH\",\"OK\",\"OR\",\"PA\",\"RI\",\"SC\",\"SD\",\"TN\",\"TX\",\"UT\",\"VA\",\"VT\",\"WA\",\"WI\",\"WV\",\"WY\"]\n",
    "results_df = results_df[results_df[\"location\"].isin(state_set)]\n",
    "len(results_df)"
   ]
  },
  {
   "cell_type": "code",
   "execution_count": 112,
   "id": "07bd78d8",
   "metadata": {},
   "outputs": [
    {
     "data": {
      "application/vnd.plotly.v1+json": {
       "config": {
        "plotlyServerURL": "https://plot.ly"
       },
       "data": [
        {
         "autocolorscale": false,
         "colorbar": {
          "title": {
           "text": "Percentage (%)"
          }
         },
         "colorscale": [
          [
           0,
           "rgb(247,251,255)"
          ],
          [
           0.125,
           "rgb(222,235,247)"
          ],
          [
           0.25,
           "rgb(198,219,239)"
          ],
          [
           0.375,
           "rgb(158,202,225)"
          ],
          [
           0.5,
           "rgb(107,174,214)"
          ],
          [
           0.625,
           "rgb(66,146,198)"
          ],
          [
           0.75,
           "rgb(33,113,181)"
          ],
          [
           0.875,
           "rgb(8,81,156)"
          ],
          [
           1,
           "rgb(8,48,107)"
          ]
         ],
         "locationmode": "USA-states",
         "locations": [
          "ID",
          "NM",
          "WV",
          "CT",
          "KS",
          "MO",
          "UT",
          "CO",
          "FL",
          "VA",
          "KY",
          "NE",
          "MD",
          "SC",
          "WA",
          "IN",
          "AZ",
          "NC",
          "TX",
          "ME",
          "TN",
          "DE",
          "CA",
          "LA",
          "OR",
          "MI",
          "NJ",
          "NV",
          "AR",
          "NH",
          "WI",
          "OH",
          "GA",
          "AK",
          "SD",
          "WY",
          "MA",
          "ND",
          "IA",
          "MT",
          "MS",
          "PA",
          "IL",
          "VT",
          "HI",
          "RI",
          "AL",
          "OK",
          "NY",
          "MN"
         ],
         "marker": {
          "line": {
           "color": "white"
          }
         },
         "type": "choropleth",
         "z": [
          64,
          94.6,
          67.6,
          95,
          76.3,
          69.4,
          75.4,
          83.8,
          82.7,
          91.1,
          68.9,
          73.5,
          91.9,
          71.1,
          85.4,
          64.5,
          78,
          92.4,
          76.6,
          95,
          64.5,
          88.3,
          84.9,
          62.8,
          81.8,
          69.5,
          94.7,
          77.7,
          70,
          88.4,
          75.2,
          65.8,
          68.5,
          73.1,
          84.1,
          61,
          95,
          69.5,
          70.7,
          68.3,
          61.7,
          90.8,
          79.1,
          95,
          91.5,
          95,
          65,
          74.7,
          94.5,
          78.9
         ]
        }
       ],
       "layout": {
        "geo": {
         "projection": {
          "type": "albers usa"
         },
         "scope": "usa",
         "showlakes": false
        },
        "mapbox": {
         "style": "light"
        },
        "template": {
         "data": {
          "bar": [
           {
            "error_x": {
             "color": "#2a3f5f"
            },
            "error_y": {
             "color": "#2a3f5f"
            },
            "marker": {
             "line": {
              "color": "#E5ECF6",
              "width": 0.5
             },
             "pattern": {
              "fillmode": "overlay",
              "size": 10,
              "solidity": 0.2
             }
            },
            "type": "bar"
           }
          ],
          "barpolar": [
           {
            "marker": {
             "line": {
              "color": "#E5ECF6",
              "width": 0.5
             },
             "pattern": {
              "fillmode": "overlay",
              "size": 10,
              "solidity": 0.2
             }
            },
            "type": "barpolar"
           }
          ],
          "carpet": [
           {
            "aaxis": {
             "endlinecolor": "#2a3f5f",
             "gridcolor": "white",
             "linecolor": "white",
             "minorgridcolor": "white",
             "startlinecolor": "#2a3f5f"
            },
            "baxis": {
             "endlinecolor": "#2a3f5f",
             "gridcolor": "white",
             "linecolor": "white",
             "minorgridcolor": "white",
             "startlinecolor": "#2a3f5f"
            },
            "type": "carpet"
           }
          ],
          "choropleth": [
           {
            "colorbar": {
             "outlinewidth": 0,
             "ticks": ""
            },
            "type": "choropleth"
           }
          ],
          "contour": [
           {
            "colorbar": {
             "outlinewidth": 0,
             "ticks": ""
            },
            "colorscale": [
             [
              0,
              "#0d0887"
             ],
             [
              0.1111111111111111,
              "#46039f"
             ],
             [
              0.2222222222222222,
              "#7201a8"
             ],
             [
              0.3333333333333333,
              "#9c179e"
             ],
             [
              0.4444444444444444,
              "#bd3786"
             ],
             [
              0.5555555555555556,
              "#d8576b"
             ],
             [
              0.6666666666666666,
              "#ed7953"
             ],
             [
              0.7777777777777778,
              "#fb9f3a"
             ],
             [
              0.8888888888888888,
              "#fdca26"
             ],
             [
              1,
              "#f0f921"
             ]
            ],
            "type": "contour"
           }
          ],
          "contourcarpet": [
           {
            "colorbar": {
             "outlinewidth": 0,
             "ticks": ""
            },
            "type": "contourcarpet"
           }
          ],
          "heatmap": [
           {
            "colorbar": {
             "outlinewidth": 0,
             "ticks": ""
            },
            "colorscale": [
             [
              0,
              "#0d0887"
             ],
             [
              0.1111111111111111,
              "#46039f"
             ],
             [
              0.2222222222222222,
              "#7201a8"
             ],
             [
              0.3333333333333333,
              "#9c179e"
             ],
             [
              0.4444444444444444,
              "#bd3786"
             ],
             [
              0.5555555555555556,
              "#d8576b"
             ],
             [
              0.6666666666666666,
              "#ed7953"
             ],
             [
              0.7777777777777778,
              "#fb9f3a"
             ],
             [
              0.8888888888888888,
              "#fdca26"
             ],
             [
              1,
              "#f0f921"
             ]
            ],
            "type": "heatmap"
           }
          ],
          "heatmapgl": [
           {
            "colorbar": {
             "outlinewidth": 0,
             "ticks": ""
            },
            "colorscale": [
             [
              0,
              "#0d0887"
             ],
             [
              0.1111111111111111,
              "#46039f"
             ],
             [
              0.2222222222222222,
              "#7201a8"
             ],
             [
              0.3333333333333333,
              "#9c179e"
             ],
             [
              0.4444444444444444,
              "#bd3786"
             ],
             [
              0.5555555555555556,
              "#d8576b"
             ],
             [
              0.6666666666666666,
              "#ed7953"
             ],
             [
              0.7777777777777778,
              "#fb9f3a"
             ],
             [
              0.8888888888888888,
              "#fdca26"
             ],
             [
              1,
              "#f0f921"
             ]
            ],
            "type": "heatmapgl"
           }
          ],
          "histogram": [
           {
            "marker": {
             "pattern": {
              "fillmode": "overlay",
              "size": 10,
              "solidity": 0.2
             }
            },
            "type": "histogram"
           }
          ],
          "histogram2d": [
           {
            "colorbar": {
             "outlinewidth": 0,
             "ticks": ""
            },
            "colorscale": [
             [
              0,
              "#0d0887"
             ],
             [
              0.1111111111111111,
              "#46039f"
             ],
             [
              0.2222222222222222,
              "#7201a8"
             ],
             [
              0.3333333333333333,
              "#9c179e"
             ],
             [
              0.4444444444444444,
              "#bd3786"
             ],
             [
              0.5555555555555556,
              "#d8576b"
             ],
             [
              0.6666666666666666,
              "#ed7953"
             ],
             [
              0.7777777777777778,
              "#fb9f3a"
             ],
             [
              0.8888888888888888,
              "#fdca26"
             ],
             [
              1,
              "#f0f921"
             ]
            ],
            "type": "histogram2d"
           }
          ],
          "histogram2dcontour": [
           {
            "colorbar": {
             "outlinewidth": 0,
             "ticks": ""
            },
            "colorscale": [
             [
              0,
              "#0d0887"
             ],
             [
              0.1111111111111111,
              "#46039f"
             ],
             [
              0.2222222222222222,
              "#7201a8"
             ],
             [
              0.3333333333333333,
              "#9c179e"
             ],
             [
              0.4444444444444444,
              "#bd3786"
             ],
             [
              0.5555555555555556,
              "#d8576b"
             ],
             [
              0.6666666666666666,
              "#ed7953"
             ],
             [
              0.7777777777777778,
              "#fb9f3a"
             ],
             [
              0.8888888888888888,
              "#fdca26"
             ],
             [
              1,
              "#f0f921"
             ]
            ],
            "type": "histogram2dcontour"
           }
          ],
          "mesh3d": [
           {
            "colorbar": {
             "outlinewidth": 0,
             "ticks": ""
            },
            "type": "mesh3d"
           }
          ],
          "parcoords": [
           {
            "line": {
             "colorbar": {
              "outlinewidth": 0,
              "ticks": ""
             }
            },
            "type": "parcoords"
           }
          ],
          "pie": [
           {
            "automargin": true,
            "type": "pie"
           }
          ],
          "scatter": [
           {
            "fillpattern": {
             "fillmode": "overlay",
             "size": 10,
             "solidity": 0.2
            },
            "type": "scatter"
           }
          ],
          "scatter3d": [
           {
            "line": {
             "colorbar": {
              "outlinewidth": 0,
              "ticks": ""
             }
            },
            "marker": {
             "colorbar": {
              "outlinewidth": 0,
              "ticks": ""
             }
            },
            "type": "scatter3d"
           }
          ],
          "scattercarpet": [
           {
            "marker": {
             "colorbar": {
              "outlinewidth": 0,
              "ticks": ""
             }
            },
            "type": "scattercarpet"
           }
          ],
          "scattergeo": [
           {
            "marker": {
             "colorbar": {
              "outlinewidth": 0,
              "ticks": ""
             }
            },
            "type": "scattergeo"
           }
          ],
          "scattergl": [
           {
            "marker": {
             "colorbar": {
              "outlinewidth": 0,
              "ticks": ""
             }
            },
            "type": "scattergl"
           }
          ],
          "scattermapbox": [
           {
            "marker": {
             "colorbar": {
              "outlinewidth": 0,
              "ticks": ""
             }
            },
            "type": "scattermapbox"
           }
          ],
          "scatterpolar": [
           {
            "marker": {
             "colorbar": {
              "outlinewidth": 0,
              "ticks": ""
             }
            },
            "type": "scatterpolar"
           }
          ],
          "scatterpolargl": [
           {
            "marker": {
             "colorbar": {
              "outlinewidth": 0,
              "ticks": ""
             }
            },
            "type": "scatterpolargl"
           }
          ],
          "scatterternary": [
           {
            "marker": {
             "colorbar": {
              "outlinewidth": 0,
              "ticks": ""
             }
            },
            "type": "scatterternary"
           }
          ],
          "surface": [
           {
            "colorbar": {
             "outlinewidth": 0,
             "ticks": ""
            },
            "colorscale": [
             [
              0,
              "#0d0887"
             ],
             [
              0.1111111111111111,
              "#46039f"
             ],
             [
              0.2222222222222222,
              "#7201a8"
             ],
             [
              0.3333333333333333,
              "#9c179e"
             ],
             [
              0.4444444444444444,
              "#bd3786"
             ],
             [
              0.5555555555555556,
              "#d8576b"
             ],
             [
              0.6666666666666666,
              "#ed7953"
             ],
             [
              0.7777777777777778,
              "#fb9f3a"
             ],
             [
              0.8888888888888888,
              "#fdca26"
             ],
             [
              1,
              "#f0f921"
             ]
            ],
            "type": "surface"
           }
          ],
          "table": [
           {
            "cells": {
             "fill": {
              "color": "#EBF0F8"
             },
             "line": {
              "color": "white"
             }
            },
            "header": {
             "fill": {
              "color": "#C8D4E3"
             },
             "line": {
              "color": "white"
             }
            },
            "type": "table"
           }
          ]
         },
         "layout": {
          "annotationdefaults": {
           "arrowcolor": "#2a3f5f",
           "arrowhead": 0,
           "arrowwidth": 1
          },
          "autotypenumbers": "strict",
          "coloraxis": {
           "colorbar": {
            "outlinewidth": 0,
            "ticks": ""
           }
          },
          "colorscale": {
           "diverging": [
            [
             0,
             "#8e0152"
            ],
            [
             0.1,
             "#c51b7d"
            ],
            [
             0.2,
             "#de77ae"
            ],
            [
             0.3,
             "#f1b6da"
            ],
            [
             0.4,
             "#fde0ef"
            ],
            [
             0.5,
             "#f7f7f7"
            ],
            [
             0.6,
             "#e6f5d0"
            ],
            [
             0.7,
             "#b8e186"
            ],
            [
             0.8,
             "#7fbc41"
            ],
            [
             0.9,
             "#4d9221"
            ],
            [
             1,
             "#276419"
            ]
           ],
           "sequential": [
            [
             0,
             "#0d0887"
            ],
            [
             0.1111111111111111,
             "#46039f"
            ],
            [
             0.2222222222222222,
             "#7201a8"
            ],
            [
             0.3333333333333333,
             "#9c179e"
            ],
            [
             0.4444444444444444,
             "#bd3786"
            ],
            [
             0.5555555555555556,
             "#d8576b"
            ],
            [
             0.6666666666666666,
             "#ed7953"
            ],
            [
             0.7777777777777778,
             "#fb9f3a"
            ],
            [
             0.8888888888888888,
             "#fdca26"
            ],
            [
             1,
             "#f0f921"
            ]
           ],
           "sequentialminus": [
            [
             0,
             "#0d0887"
            ],
            [
             0.1111111111111111,
             "#46039f"
            ],
            [
             0.2222222222222222,
             "#7201a8"
            ],
            [
             0.3333333333333333,
             "#9c179e"
            ],
            [
             0.4444444444444444,
             "#bd3786"
            ],
            [
             0.5555555555555556,
             "#d8576b"
            ],
            [
             0.6666666666666666,
             "#ed7953"
            ],
            [
             0.7777777777777778,
             "#fb9f3a"
            ],
            [
             0.8888888888888888,
             "#fdca26"
            ],
            [
             1,
             "#f0f921"
            ]
           ]
          },
          "colorway": [
           "#636efa",
           "#EF553B",
           "#00cc96",
           "#ab63fa",
           "#FFA15A",
           "#19d3f3",
           "#FF6692",
           "#B6E880",
           "#FF97FF",
           "#FECB52"
          ],
          "font": {
           "color": "#2a3f5f"
          },
          "geo": {
           "bgcolor": "white",
           "lakecolor": "white",
           "landcolor": "#E5ECF6",
           "showlakes": true,
           "showland": true,
           "subunitcolor": "white"
          },
          "hoverlabel": {
           "align": "left"
          },
          "hovermode": "closest",
          "mapbox": {
           "style": "light"
          },
          "paper_bgcolor": "white",
          "plot_bgcolor": "#E5ECF6",
          "polar": {
           "angularaxis": {
            "gridcolor": "white",
            "linecolor": "white",
            "ticks": ""
           },
           "bgcolor": "#E5ECF6",
           "radialaxis": {
            "gridcolor": "white",
            "linecolor": "white",
            "ticks": ""
           }
          },
          "scene": {
           "xaxis": {
            "backgroundcolor": "#E5ECF6",
            "gridcolor": "white",
            "gridwidth": 2,
            "linecolor": "white",
            "showbackground": true,
            "ticks": "",
            "zerolinecolor": "white"
           },
           "yaxis": {
            "backgroundcolor": "#E5ECF6",
            "gridcolor": "white",
            "gridwidth": 2,
            "linecolor": "white",
            "showbackground": true,
            "ticks": "",
            "zerolinecolor": "white"
           },
           "zaxis": {
            "backgroundcolor": "#E5ECF6",
            "gridcolor": "white",
            "gridwidth": 2,
            "linecolor": "white",
            "showbackground": true,
            "ticks": "",
            "zerolinecolor": "white"
           }
          },
          "shapedefaults": {
           "line": {
            "color": "#2a3f5f"
           }
          },
          "ternary": {
           "aaxis": {
            "gridcolor": "white",
            "linecolor": "white",
            "ticks": ""
           },
           "baxis": {
            "gridcolor": "white",
            "linecolor": "white",
            "ticks": ""
           },
           "bgcolor": "#E5ECF6",
           "caxis": {
            "gridcolor": "white",
            "linecolor": "white",
            "ticks": ""
           }
          },
          "title": {
           "x": 0.05
          },
          "xaxis": {
           "automargin": true,
           "gridcolor": "white",
           "linecolor": "white",
           "ticks": "",
           "title": {
            "standoff": 15
           },
           "zerolinecolor": "white",
           "zerolinewidth": 2
          },
          "yaxis": {
           "automargin": true,
           "gridcolor": "white",
           "linecolor": "white",
           "ticks": "",
           "title": {
            "standoff": 15
           },
           "zerolinecolor": "white",
           "zerolinewidth": 2
          }
         }
        },
        "title": {
         "text": "Percent of the Total Population with at Least One Dose by States"
        }
       }
      }
     },
     "metadata": {},
     "output_type": "display_data"
    }
   ],
   "source": [
    "#Transform the column data type to string\n",
    "\n",
    "for col in results_df.columns:\n",
    "    results_df[col] = results_df[col].astype(str)\n",
    "\n",
    "\n",
    "#Generate the heatmap\n",
    "\n",
    "fig = go.Figure(data=go.Choropleth(\n",
    "    locations=results_df['location'],\n",
    "    z=results_df['administered_dose1_pop_pct'].astype(float),\n",
    "    locationmode='USA-states',\n",
    "    colorscale='Blues',\n",
    "    autocolorscale=False,\n",
    "    marker_line_color='white', # line markers between states\n",
    "    colorbar_title=\"Percentage (%)\"\n",
    "))\n",
    "\n",
    "#Format the map layout\n",
    "\n",
    "fig.update_layout(\n",
    "    title_text='Percent of the Total Population with at Least One Dose by States',\n",
    "    geo = dict(\n",
    "        scope='usa',\n",
    "        projection=go.layout.geo.Projection(type = 'albers usa'),\n",
    "        showlakes=False, # lakes \n",
    "        ),\n",
    "        mapbox_style=\"light\"\n",
    ")\n",
    "\n",
    "fig.show()"
   ]
  },
  {
   "attachments": {},
   "cell_type": "markdown",
   "id": "56896c3d",
   "metadata": {},
   "source": [
    "Second Picture - Vaccination rate by Age Group\n"
   ]
  },
  {
   "cell_type": "code",
   "execution_count": 114,
   "id": "c9eefa16",
   "metadata": {},
   "outputs": [],
   "source": [
    "import plotly.express as px\n",
    "\n"
   ]
  },
  {
   "cell_type": "code",
   "execution_count": 116,
   "id": "63938037",
   "metadata": {},
   "outputs": [],
   "source": [
    "pop_does1_65 = pd.to_numeric(results_df[\"administered_dose1_recip_65plus\"])\n",
    "pop_does1_18 = pd.to_numeric(results_df[\"administered_dose1_recip_18plus\"]) - pd.to_numeric(results_df[\"administered_dose1_recip_65plus\"])\n",
    "pop_does1_12 = pd.to_numeric(results_df[\"administered_dose1_recip_12plus\"]) - pd.to_numeric(results_df[\"administered_dose1_recip_18plus\"])\n",
    "pop_does1_5 = pd.to_numeric(results_df[\"administered_dose1_recip_5plus\"]) - pd.to_numeric(results_df[\"administered_dose1_recip_12plus\"])\n",
    "\n",
    "total_pop = pd.to_numeric(results_df[\"administered_dose1_recip\"]) / pd.to_numeric(results_df[\"administered_dose1_pop_pct\"])\n",
    "pop_does1_65pct = pop_does1_65/total_pop\n",
    "pop_does1_18pct = pop_does1_18/total_pop\n",
    "pop_does1_12pct = pop_does1_12/total_pop\n",
    "pop_does1_5pct = pop_does1_5/total_pop\n",
    "# pop_does1_0pct ="
   ]
  },
  {
   "cell_type": "code",
   "execution_count": 117,
   "id": "95bb5d96",
   "metadata": {},
   "outputs": [
    {
     "data": {
      "text/html": [
       "<div>\n",
       "<style scoped>\n",
       "    .dataframe tbody tr th:only-of-type {\n",
       "        vertical-align: middle;\n",
       "    }\n",
       "\n",
       "    .dataframe tbody tr th {\n",
       "        vertical-align: top;\n",
       "    }\n",
       "\n",
       "    .dataframe thead th {\n",
       "        text-align: right;\n",
       "    }\n",
       "</style>\n",
       "<table border=\"1\" class=\"dataframe\">\n",
       "  <thead>\n",
       "    <tr style=\"text-align: right;\">\n",
       "      <th></th>\n",
       "      <th>State</th>\n",
       "      <th>pop_5</th>\n",
       "      <th>pop_12</th>\n",
       "      <th>pop_18</th>\n",
       "      <th>pop_65</th>\n",
       "    </tr>\n",
       "  </thead>\n",
       "  <tbody>\n",
       "    <tr>\n",
       "      <th>0</th>\n",
       "      <td>ID</td>\n",
       "      <td>2.157581</td>\n",
       "      <td>4.056474</td>\n",
       "      <td>41.353958</td>\n",
       "      <td>16.074199</td>\n",
       "    </tr>\n",
       "    <tr>\n",
       "      <th>1</th>\n",
       "      <td>NM</td>\n",
       "      <td>4.473099</td>\n",
       "      <td>6.894305</td>\n",
       "      <td>60.296028</td>\n",
       "      <td>22.192077</td>\n",
       "    </tr>\n",
       "    <tr>\n",
       "      <th>2</th>\n",
       "      <td>WV</td>\n",
       "      <td>1.688361</td>\n",
       "      <td>3.546251</td>\n",
       "      <td>42.397095</td>\n",
       "      <td>19.749235</td>\n",
       "    </tr>\n",
       "    <tr>\n",
       "      <th>3</th>\n",
       "      <td>CT</td>\n",
       "      <td>4.090831</td>\n",
       "      <td>6.652973</td>\n",
       "      <td>62.193476</td>\n",
       "      <td>21.306808</td>\n",
       "    </tr>\n",
       "    <tr>\n",
       "      <th>4</th>\n",
       "      <td>KS</td>\n",
       "      <td>3.276886</td>\n",
       "      <td>5.254291</td>\n",
       "      <td>49.496569</td>\n",
       "      <td>17.593473</td>\n",
       "    </tr>\n",
       "  </tbody>\n",
       "</table>\n",
       "</div>"
      ],
      "text/plain": [
       "  State     pop_5    pop_12     pop_18     pop_65\n",
       "0    ID  2.157581  4.056474  41.353958  16.074199\n",
       "1    NM  4.473099  6.894305  60.296028  22.192077\n",
       "2    WV  1.688361  3.546251  42.397095  19.749235\n",
       "3    CT  4.090831  6.652973  62.193476  21.306808\n",
       "4    KS  3.276886  5.254291  49.496569  17.593473"
      ]
     },
     "execution_count": 117,
     "metadata": {},
     "output_type": "execute_result"
    }
   ],
   "source": [
    "age_df = pd.DataFrame(\n",
    "\t{\"State\": results_df[\"location\"],\n",
    "\t\"pop_5\": pop_does1_5pct,\n",
    "\t\"pop_12\": pop_does1_12pct,\n",
    "\t\"pop_18\": pop_does1_18pct,\n",
    "\t\"pop_65\": pop_does1_65pct,\n",
    "\t})\n",
    "age_df.head()"
   ]
  },
  {
   "cell_type": "code",
   "execution_count": 118,
   "id": "e0a1fab9",
   "metadata": {},
   "outputs": [
    {
     "data": {
      "application/vnd.plotly.v1+json": {
       "config": {
        "plotlyServerURL": "https://plot.ly"
       },
       "data": [
        {
         "alignmentgroup": "True",
         "hovertemplate": "variable=pop_5<br>State=%{x}<br>value=%{y}<extra></extra>",
         "legendgroup": "pop_5",
         "marker": {
          "color": "#636efa",
          "pattern": {
           "shape": ""
          }
         },
         "name": "pop_5",
         "offsetgroup": "pop_5",
         "orientation": "v",
         "showlegend": true,
         "textposition": "auto",
         "type": "bar",
         "x": [
          "ID",
          "NM",
          "WV",
          "CT",
          "KS",
          "MO",
          "UT",
          "CO",
          "FL",
          "VA",
          "KY",
          "NE",
          "MD",
          "SC",
          "WA",
          "IN",
          "AZ",
          "NC",
          "TX",
          "ME",
          "TN",
          "DE",
          "CA",
          "LA",
          "OR",
          "MI",
          "NJ",
          "NV",
          "AR",
          "NH",
          "WI",
          "OH",
          "GA",
          "AK",
          "SD",
          "WY",
          "MA",
          "ND",
          "IA",
          "MT",
          "MS",
          "PA",
          "IL",
          "VT",
          "HI",
          "RI",
          "AL",
          "OK",
          "NY",
          "MN"
         ],
         "xaxis": "x",
         "y": [
          2.157581268470107,
          4.473099376864716,
          1.688361112625494,
          4.0908305159729315,
          3.2768855972881017,
          2.49365710480914,
          4.426676192233327,
          3.923720439256572,
          2.182990494986612,
          4.494935264495515,
          2.2676754864108912,
          3.4441994522490282,
          4.7803450523764335,
          2.1954545454545453,
          3.998534349773467,
          2.4886298459317233,
          3.6583443602117933,
          3.307004237975513,
          4.079382001118385,
          3.6598805151611917,
          1.8401892133407667,
          3.3750983216440145,
          4.1291121073526735,
          1.7582274649661986,
          3.618015082340581,
          2.6579191443167174,
          4.069700822301971,
          2.4283298733955148,
          2.389467551475708,
          3.104055754557439,
          3.157102722848589,
          2.4989288583983744,
          2.3386130032202908,
          3.448498846993299,
          3.615732815137069,
          1.703307133911723,
          4.602197874627487,
          2.788885362771377,
          2.7955992856390597,
          2.4841312359033556,
          1.61978541097431,
          3.5054318255175914,
          4.01359612949702,
          4.845834651981345,
          4.541232279070198,
          4.425078707900504,
          1.5343710261367502,
          2.172870324316094,
          3.823466195985973,
          4.366294828665812
         ],
         "yaxis": "y"
        },
        {
         "alignmentgroup": "True",
         "hovertemplate": "variable=pop_12<br>State=%{x}<br>value=%{y}<extra></extra>",
         "legendgroup": "pop_12",
         "marker": {
          "color": "#EF553B",
          "pattern": {
           "shape": ""
          }
         },
         "name": "pop_12",
         "offsetgroup": "pop_12",
         "orientation": "v",
         "showlegend": true,
         "textposition": "auto",
         "type": "bar",
         "x": [
          "ID",
          "NM",
          "WV",
          "CT",
          "KS",
          "MO",
          "UT",
          "CO",
          "FL",
          "VA",
          "KY",
          "NE",
          "MD",
          "SC",
          "WA",
          "IN",
          "AZ",
          "NC",
          "TX",
          "ME",
          "TN",
          "DE",
          "CA",
          "LA",
          "OR",
          "MI",
          "NJ",
          "NV",
          "AR",
          "NH",
          "WI",
          "OH",
          "GA",
          "AK",
          "SD",
          "WY",
          "MA",
          "ND",
          "IA",
          "MT",
          "MS",
          "PA",
          "IL",
          "VT",
          "HI",
          "RI",
          "AL",
          "OK",
          "NY",
          "MN"
         ],
         "xaxis": "x",
         "y": [
          4.056474373546435,
          6.89430473715956,
          3.5462507454894787,
          6.652973111731325,
          5.254290534479448,
          4.143558777811497,
          6.973962108983624,
          5.7100776488546,
          4.6904847395150195,
          6.410216634617943,
          4.050643140853839,
          5.200624343268529,
          6.859413603646272,
          4.142035742035741,
          5.6106465622536765,
          4.055071703964829,
          5.946514781359588,
          5.483770745626943,
          6.684586775962319,
          5.1631465712698335,
          3.5886853510677312,
          5.415103460061591,
          6.407421973134995,
          3.8178536797817437,
          5.13125242800635,
          4.074650071485155,
          6.554470197495069,
          5.121169556445718,
          4.646706359920235,
          5.100124505639373,
          4.727505315298239,
          3.8905966852940295,
          4.616393752817308,
          5.1418506832944,
          5.475058666899765,
          3.347849739611372,
          6.212600585495942,
          3.9175417419902034,
          4.46981574058928,
          3.8858101658799247,
          3.9008387064097323,
          5.308506987816486,
          5.692904613333838,
          5.868203206202278,
          6.419751571205603,
          6.073243050174675,
          3.5226283827327167,
          4.673410140587728,
          6.011259794875704,
          5.364921971312081
         ],
         "yaxis": "y"
        }
       ],
       "layout": {
        "barmode": "relative",
        "legend": {
         "title": {
          "text": "variable"
         },
         "tracegroupgap": 0
        },
        "template": {
         "data": {
          "bar": [
           {
            "error_x": {
             "color": "#2a3f5f"
            },
            "error_y": {
             "color": "#2a3f5f"
            },
            "marker": {
             "line": {
              "color": "#E5ECF6",
              "width": 0.5
             },
             "pattern": {
              "fillmode": "overlay",
              "size": 10,
              "solidity": 0.2
             }
            },
            "type": "bar"
           }
          ],
          "barpolar": [
           {
            "marker": {
             "line": {
              "color": "#E5ECF6",
              "width": 0.5
             },
             "pattern": {
              "fillmode": "overlay",
              "size": 10,
              "solidity": 0.2
             }
            },
            "type": "barpolar"
           }
          ],
          "carpet": [
           {
            "aaxis": {
             "endlinecolor": "#2a3f5f",
             "gridcolor": "white",
             "linecolor": "white",
             "minorgridcolor": "white",
             "startlinecolor": "#2a3f5f"
            },
            "baxis": {
             "endlinecolor": "#2a3f5f",
             "gridcolor": "white",
             "linecolor": "white",
             "minorgridcolor": "white",
             "startlinecolor": "#2a3f5f"
            },
            "type": "carpet"
           }
          ],
          "choropleth": [
           {
            "colorbar": {
             "outlinewidth": 0,
             "ticks": ""
            },
            "type": "choropleth"
           }
          ],
          "contour": [
           {
            "colorbar": {
             "outlinewidth": 0,
             "ticks": ""
            },
            "colorscale": [
             [
              0,
              "#0d0887"
             ],
             [
              0.1111111111111111,
              "#46039f"
             ],
             [
              0.2222222222222222,
              "#7201a8"
             ],
             [
              0.3333333333333333,
              "#9c179e"
             ],
             [
              0.4444444444444444,
              "#bd3786"
             ],
             [
              0.5555555555555556,
              "#d8576b"
             ],
             [
              0.6666666666666666,
              "#ed7953"
             ],
             [
              0.7777777777777778,
              "#fb9f3a"
             ],
             [
              0.8888888888888888,
              "#fdca26"
             ],
             [
              1,
              "#f0f921"
             ]
            ],
            "type": "contour"
           }
          ],
          "contourcarpet": [
           {
            "colorbar": {
             "outlinewidth": 0,
             "ticks": ""
            },
            "type": "contourcarpet"
           }
          ],
          "heatmap": [
           {
            "colorbar": {
             "outlinewidth": 0,
             "ticks": ""
            },
            "colorscale": [
             [
              0,
              "#0d0887"
             ],
             [
              0.1111111111111111,
              "#46039f"
             ],
             [
              0.2222222222222222,
              "#7201a8"
             ],
             [
              0.3333333333333333,
              "#9c179e"
             ],
             [
              0.4444444444444444,
              "#bd3786"
             ],
             [
              0.5555555555555556,
              "#d8576b"
             ],
             [
              0.6666666666666666,
              "#ed7953"
             ],
             [
              0.7777777777777778,
              "#fb9f3a"
             ],
             [
              0.8888888888888888,
              "#fdca26"
             ],
             [
              1,
              "#f0f921"
             ]
            ],
            "type": "heatmap"
           }
          ],
          "heatmapgl": [
           {
            "colorbar": {
             "outlinewidth": 0,
             "ticks": ""
            },
            "colorscale": [
             [
              0,
              "#0d0887"
             ],
             [
              0.1111111111111111,
              "#46039f"
             ],
             [
              0.2222222222222222,
              "#7201a8"
             ],
             [
              0.3333333333333333,
              "#9c179e"
             ],
             [
              0.4444444444444444,
              "#bd3786"
             ],
             [
              0.5555555555555556,
              "#d8576b"
             ],
             [
              0.6666666666666666,
              "#ed7953"
             ],
             [
              0.7777777777777778,
              "#fb9f3a"
             ],
             [
              0.8888888888888888,
              "#fdca26"
             ],
             [
              1,
              "#f0f921"
             ]
            ],
            "type": "heatmapgl"
           }
          ],
          "histogram": [
           {
            "marker": {
             "pattern": {
              "fillmode": "overlay",
              "size": 10,
              "solidity": 0.2
             }
            },
            "type": "histogram"
           }
          ],
          "histogram2d": [
           {
            "colorbar": {
             "outlinewidth": 0,
             "ticks": ""
            },
            "colorscale": [
             [
              0,
              "#0d0887"
             ],
             [
              0.1111111111111111,
              "#46039f"
             ],
             [
              0.2222222222222222,
              "#7201a8"
             ],
             [
              0.3333333333333333,
              "#9c179e"
             ],
             [
              0.4444444444444444,
              "#bd3786"
             ],
             [
              0.5555555555555556,
              "#d8576b"
             ],
             [
              0.6666666666666666,
              "#ed7953"
             ],
             [
              0.7777777777777778,
              "#fb9f3a"
             ],
             [
              0.8888888888888888,
              "#fdca26"
             ],
             [
              1,
              "#f0f921"
             ]
            ],
            "type": "histogram2d"
           }
          ],
          "histogram2dcontour": [
           {
            "colorbar": {
             "outlinewidth": 0,
             "ticks": ""
            },
            "colorscale": [
             [
              0,
              "#0d0887"
             ],
             [
              0.1111111111111111,
              "#46039f"
             ],
             [
              0.2222222222222222,
              "#7201a8"
             ],
             [
              0.3333333333333333,
              "#9c179e"
             ],
             [
              0.4444444444444444,
              "#bd3786"
             ],
             [
              0.5555555555555556,
              "#d8576b"
             ],
             [
              0.6666666666666666,
              "#ed7953"
             ],
             [
              0.7777777777777778,
              "#fb9f3a"
             ],
             [
              0.8888888888888888,
              "#fdca26"
             ],
             [
              1,
              "#f0f921"
             ]
            ],
            "type": "histogram2dcontour"
           }
          ],
          "mesh3d": [
           {
            "colorbar": {
             "outlinewidth": 0,
             "ticks": ""
            },
            "type": "mesh3d"
           }
          ],
          "parcoords": [
           {
            "line": {
             "colorbar": {
              "outlinewidth": 0,
              "ticks": ""
             }
            },
            "type": "parcoords"
           }
          ],
          "pie": [
           {
            "automargin": true,
            "type": "pie"
           }
          ],
          "scatter": [
           {
            "fillpattern": {
             "fillmode": "overlay",
             "size": 10,
             "solidity": 0.2
            },
            "type": "scatter"
           }
          ],
          "scatter3d": [
           {
            "line": {
             "colorbar": {
              "outlinewidth": 0,
              "ticks": ""
             }
            },
            "marker": {
             "colorbar": {
              "outlinewidth": 0,
              "ticks": ""
             }
            },
            "type": "scatter3d"
           }
          ],
          "scattercarpet": [
           {
            "marker": {
             "colorbar": {
              "outlinewidth": 0,
              "ticks": ""
             }
            },
            "type": "scattercarpet"
           }
          ],
          "scattergeo": [
           {
            "marker": {
             "colorbar": {
              "outlinewidth": 0,
              "ticks": ""
             }
            },
            "type": "scattergeo"
           }
          ],
          "scattergl": [
           {
            "marker": {
             "colorbar": {
              "outlinewidth": 0,
              "ticks": ""
             }
            },
            "type": "scattergl"
           }
          ],
          "scattermapbox": [
           {
            "marker": {
             "colorbar": {
              "outlinewidth": 0,
              "ticks": ""
             }
            },
            "type": "scattermapbox"
           }
          ],
          "scatterpolar": [
           {
            "marker": {
             "colorbar": {
              "outlinewidth": 0,
              "ticks": ""
             }
            },
            "type": "scatterpolar"
           }
          ],
          "scatterpolargl": [
           {
            "marker": {
             "colorbar": {
              "outlinewidth": 0,
              "ticks": ""
             }
            },
            "type": "scatterpolargl"
           }
          ],
          "scatterternary": [
           {
            "marker": {
             "colorbar": {
              "outlinewidth": 0,
              "ticks": ""
             }
            },
            "type": "scatterternary"
           }
          ],
          "surface": [
           {
            "colorbar": {
             "outlinewidth": 0,
             "ticks": ""
            },
            "colorscale": [
             [
              0,
              "#0d0887"
             ],
             [
              0.1111111111111111,
              "#46039f"
             ],
             [
              0.2222222222222222,
              "#7201a8"
             ],
             [
              0.3333333333333333,
              "#9c179e"
             ],
             [
              0.4444444444444444,
              "#bd3786"
             ],
             [
              0.5555555555555556,
              "#d8576b"
             ],
             [
              0.6666666666666666,
              "#ed7953"
             ],
             [
              0.7777777777777778,
              "#fb9f3a"
             ],
             [
              0.8888888888888888,
              "#fdca26"
             ],
             [
              1,
              "#f0f921"
             ]
            ],
            "type": "surface"
           }
          ],
          "table": [
           {
            "cells": {
             "fill": {
              "color": "#EBF0F8"
             },
             "line": {
              "color": "white"
             }
            },
            "header": {
             "fill": {
              "color": "#C8D4E3"
             },
             "line": {
              "color": "white"
             }
            },
            "type": "table"
           }
          ]
         },
         "layout": {
          "annotationdefaults": {
           "arrowcolor": "#2a3f5f",
           "arrowhead": 0,
           "arrowwidth": 1
          },
          "autotypenumbers": "strict",
          "coloraxis": {
           "colorbar": {
            "outlinewidth": 0,
            "ticks": ""
           }
          },
          "colorscale": {
           "diverging": [
            [
             0,
             "#8e0152"
            ],
            [
             0.1,
             "#c51b7d"
            ],
            [
             0.2,
             "#de77ae"
            ],
            [
             0.3,
             "#f1b6da"
            ],
            [
             0.4,
             "#fde0ef"
            ],
            [
             0.5,
             "#f7f7f7"
            ],
            [
             0.6,
             "#e6f5d0"
            ],
            [
             0.7,
             "#b8e186"
            ],
            [
             0.8,
             "#7fbc41"
            ],
            [
             0.9,
             "#4d9221"
            ],
            [
             1,
             "#276419"
            ]
           ],
           "sequential": [
            [
             0,
             "#0d0887"
            ],
            [
             0.1111111111111111,
             "#46039f"
            ],
            [
             0.2222222222222222,
             "#7201a8"
            ],
            [
             0.3333333333333333,
             "#9c179e"
            ],
            [
             0.4444444444444444,
             "#bd3786"
            ],
            [
             0.5555555555555556,
             "#d8576b"
            ],
            [
             0.6666666666666666,
             "#ed7953"
            ],
            [
             0.7777777777777778,
             "#fb9f3a"
            ],
            [
             0.8888888888888888,
             "#fdca26"
            ],
            [
             1,
             "#f0f921"
            ]
           ],
           "sequentialminus": [
            [
             0,
             "#0d0887"
            ],
            [
             0.1111111111111111,
             "#46039f"
            ],
            [
             0.2222222222222222,
             "#7201a8"
            ],
            [
             0.3333333333333333,
             "#9c179e"
            ],
            [
             0.4444444444444444,
             "#bd3786"
            ],
            [
             0.5555555555555556,
             "#d8576b"
            ],
            [
             0.6666666666666666,
             "#ed7953"
            ],
            [
             0.7777777777777778,
             "#fb9f3a"
            ],
            [
             0.8888888888888888,
             "#fdca26"
            ],
            [
             1,
             "#f0f921"
            ]
           ]
          },
          "colorway": [
           "#636efa",
           "#EF553B",
           "#00cc96",
           "#ab63fa",
           "#FFA15A",
           "#19d3f3",
           "#FF6692",
           "#B6E880",
           "#FF97FF",
           "#FECB52"
          ],
          "font": {
           "color": "#2a3f5f"
          },
          "geo": {
           "bgcolor": "white",
           "lakecolor": "white",
           "landcolor": "#E5ECF6",
           "showlakes": true,
           "showland": true,
           "subunitcolor": "white"
          },
          "hoverlabel": {
           "align": "left"
          },
          "hovermode": "closest",
          "mapbox": {
           "style": "light"
          },
          "paper_bgcolor": "white",
          "plot_bgcolor": "#E5ECF6",
          "polar": {
           "angularaxis": {
            "gridcolor": "white",
            "linecolor": "white",
            "ticks": ""
           },
           "bgcolor": "#E5ECF6",
           "radialaxis": {
            "gridcolor": "white",
            "linecolor": "white",
            "ticks": ""
           }
          },
          "scene": {
           "xaxis": {
            "backgroundcolor": "#E5ECF6",
            "gridcolor": "white",
            "gridwidth": 2,
            "linecolor": "white",
            "showbackground": true,
            "ticks": "",
            "zerolinecolor": "white"
           },
           "yaxis": {
            "backgroundcolor": "#E5ECF6",
            "gridcolor": "white",
            "gridwidth": 2,
            "linecolor": "white",
            "showbackground": true,
            "ticks": "",
            "zerolinecolor": "white"
           },
           "zaxis": {
            "backgroundcolor": "#E5ECF6",
            "gridcolor": "white",
            "gridwidth": 2,
            "linecolor": "white",
            "showbackground": true,
            "ticks": "",
            "zerolinecolor": "white"
           }
          },
          "shapedefaults": {
           "line": {
            "color": "#2a3f5f"
           }
          },
          "ternary": {
           "aaxis": {
            "gridcolor": "white",
            "linecolor": "white",
            "ticks": ""
           },
           "baxis": {
            "gridcolor": "white",
            "linecolor": "white",
            "ticks": ""
           },
           "bgcolor": "#E5ECF6",
           "caxis": {
            "gridcolor": "white",
            "linecolor": "white",
            "ticks": ""
           }
          },
          "title": {
           "x": 0.05
          },
          "xaxis": {
           "automargin": true,
           "gridcolor": "white",
           "linecolor": "white",
           "ticks": "",
           "title": {
            "standoff": 15
           },
           "zerolinecolor": "white",
           "zerolinewidth": 2
          },
          "yaxis": {
           "automargin": true,
           "gridcolor": "white",
           "linecolor": "white",
           "ticks": "",
           "title": {
            "standoff": 15
           },
           "zerolinecolor": "white",
           "zerolinewidth": 2
          }
         }
        },
        "title": {
         "text": "Vaccination rate by Age Group"
        },
        "xaxis": {
         "anchor": "y",
         "domain": [
          0,
          1
         ],
         "title": {
          "text": "State"
         }
        },
        "yaxis": {
         "anchor": "x",
         "domain": [
          0,
          1
         ],
         "title": {
          "text": "value"
         }
        }
       }
      }
     },
     "metadata": {},
     "output_type": "display_data"
    }
   ],
   "source": [
    "fig = px.bar(age_df, x=\"State\", y=[\"pop_5\", \n",
    "                                   \"pop_12\"], \n",
    "                                     \n",
    "                                     title=\"Vaccination rate by Age Group\")\n",
    "fig.show()"
   ]
  },
  {
   "cell_type": "code",
   "execution_count": 85,
   "id": "dcbc3d47",
   "metadata": {},
   "outputs": [
    {
     "data": {
      "text/plain": [
       "0    ID\n",
       "1    NM\n",
       "2    WV\n",
       "3    CT\n",
       "4    KS\n",
       "Name: location, dtype: object"
      ]
     },
     "execution_count": 85,
     "metadata": {},
     "output_type": "execute_result"
    }
   ],
   "source": [
    "# population density"
   ]
  },
  {
   "cell_type": "code",
   "execution_count": null,
   "id": "7eb5e643",
   "metadata": {},
   "outputs": [],
   "source": []
  },
  {
   "attachments": {},
   "cell_type": "markdown",
   "id": "305ad6d5",
   "metadata": {},
   "source": [
    "Third Picture - Vaccination rate by Sex\n",
    "\n"
   ]
  },
  {
   "attachments": {},
   "cell_type": "markdown",
   "id": "f944ac3b",
   "metadata": {},
   "source": [
    "Fourth Picture - Education level,"
   ]
  },
  {
   "cell_type": "markdown",
   "id": "8e13e307",
   "metadata": {},
   "source": []
  },
  {
   "cell_type": "code",
   "execution_count": null,
   "id": "d52eb5ef",
   "metadata": {},
   "outputs": [],
   "source": []
  },
  {
   "cell_type": "code",
   "execution_count": 26,
   "id": "67fbd445",
   "metadata": {},
   "outputs": [
    {
     "data": {
      "text/html": [
       "<div>\n",
       "<style scoped>\n",
       "    .dataframe tbody tr th:only-of-type {\n",
       "        vertical-align: middle;\n",
       "    }\n",
       "\n",
       "    .dataframe tbody tr th {\n",
       "        vertical-align: top;\n",
       "    }\n",
       "\n",
       "    .dataframe thead th {\n",
       "        text-align: right;\n",
       "    }\n",
       "</style>\n",
       "<table border=\"1\" class=\"dataframe\">\n",
       "  <thead>\n",
       "    <tr style=\"text-align: right;\">\n",
       "      <th></th>\n",
       "      <th>administered_dose1</th>\n",
       "      <th>administered_dose1_pct_agegroup</th>\n",
       "      <th>booster_doses</th>\n",
       "      <th>booster_doses_vax_pct_agegroup</th>\n",
       "      <th>census</th>\n",
       "      <th>date</th>\n",
       "      <th>demographic_category</th>\n",
       "      <th>location</th>\n",
       "      <th>second_booster</th>\n",
       "      <th>second_booster_vax_pct_agegroup</th>\n",
       "      <th>series_complete_pop_pct_agegroup</th>\n",
       "      <th>series_complete_yes</th>\n",
       "    </tr>\n",
       "  </thead>\n",
       "  <tbody>\n",
       "    <tr>\n",
       "      <th>0</th>\n",
       "      <td>356723</td>\n",
       "      <td>68.6</td>\n",
       "      <td>123845</td>\n",
       "      <td>39.5</td>\n",
       "      <td>520105</td>\n",
       "      <td>2023-03-15T00:00:00.000</td>\n",
       "      <td>Female_Ages_18-24_yrs</td>\n",
       "      <td>OH</td>\n",
       "      <td>NaN</td>\n",
       "      <td>NaN</td>\n",
       "      <td>60.2</td>\n",
       "      <td>313339</td>\n",
       "    </tr>\n",
       "    <tr>\n",
       "      <th>1</th>\n",
       "      <td>157977</td>\n",
       "      <td>69.8</td>\n",
       "      <td>33965</td>\n",
       "      <td>26.7</td>\n",
       "      <td>226415</td>\n",
       "      <td>2023-03-15T00:00:00.000</td>\n",
       "      <td>Female_Ages_18-24_yrs</td>\n",
       "      <td>SC</td>\n",
       "      <td>NaN</td>\n",
       "      <td>NaN</td>\n",
       "      <td>56.1</td>\n",
       "      <td>127030</td>\n",
       "    </tr>\n",
       "    <tr>\n",
       "      <th>2</th>\n",
       "      <td>395088</td>\n",
       "      <td>95.0</td>\n",
       "      <td>207015</td>\n",
       "      <td>59.1</td>\n",
       "      <td>390426</td>\n",
       "      <td>2023-03-15T00:00:00.000</td>\n",
       "      <td>Female_Ages_40-49_yrs</td>\n",
       "      <td>MD</td>\n",
       "      <td>NaN</td>\n",
       "      <td>NaN</td>\n",
       "      <td>89.8</td>\n",
       "      <td>350560</td>\n",
       "    </tr>\n",
       "    <tr>\n",
       "      <th>3</th>\n",
       "      <td>205415</td>\n",
       "      <td>74.1</td>\n",
       "      <td>69799</td>\n",
       "      <td>38.3</td>\n",
       "      <td>277232</td>\n",
       "      <td>2023-03-15T00:00:00.000</td>\n",
       "      <td>Female_Ages_40-49_yrs</td>\n",
       "      <td>LA</td>\n",
       "      <td>NaN</td>\n",
       "      <td>NaN</td>\n",
       "      <td>65.7</td>\n",
       "      <td>182218</td>\n",
       "    </tr>\n",
       "    <tr>\n",
       "      <th>4</th>\n",
       "      <td>10312</td>\n",
       "      <td>29.7</td>\n",
       "      <td>2215</td>\n",
       "      <td>27.0</td>\n",
       "      <td>34693</td>\n",
       "      <td>2023-03-15T00:00:00.000</td>\n",
       "      <td>Female_Ages_5-11_yrs</td>\n",
       "      <td>ND</td>\n",
       "      <td>NaN</td>\n",
       "      <td>NaN</td>\n",
       "      <td>23.7</td>\n",
       "      <td>8216</td>\n",
       "    </tr>\n",
       "    <tr>\n",
       "      <th>5</th>\n",
       "      <td>69779</td>\n",
       "      <td>39.2</td>\n",
       "      <td>13270</td>\n",
       "      <td>23.2</td>\n",
       "      <td>178207</td>\n",
       "      <td>2023-03-15T00:00:00.000</td>\n",
       "      <td>Female_Ages_5-11_yrs</td>\n",
       "      <td>UT</td>\n",
       "      <td>NaN</td>\n",
       "      <td>NaN</td>\n",
       "      <td>32.1</td>\n",
       "      <td>57126</td>\n",
       "    </tr>\n",
       "    <tr>\n",
       "      <th>6</th>\n",
       "      <td>186406</td>\n",
       "      <td>93.4</td>\n",
       "      <td>121614</td>\n",
       "      <td>71.3</td>\n",
       "      <td>199619</td>\n",
       "      <td>2023-03-15T00:00:00.000</td>\n",
       "      <td>Female_Ages_65+_yrs</td>\n",
       "      <td>WV</td>\n",
       "      <td>64667</td>\n",
       "      <td>53.2</td>\n",
       "      <td>85.5</td>\n",
       "      <td>170642</td>\n",
       "    </tr>\n",
       "    <tr>\n",
       "      <th>7</th>\n",
       "      <td>48993</td>\n",
       "      <td>95.0</td>\n",
       "      <td>32108</td>\n",
       "      <td>72.7</td>\n",
       "      <td>51419</td>\n",
       "      <td>2023-03-15T00:00:00.000</td>\n",
       "      <td>Female_Ages_65+_yrs</td>\n",
       "      <td>WY</td>\n",
       "      <td>18285</td>\n",
       "      <td>56.9</td>\n",
       "      <td>85.9</td>\n",
       "      <td>44164</td>\n",
       "    </tr>\n",
       "    <tr>\n",
       "      <th>8</th>\n",
       "      <td>4382926</td>\n",
       "      <td>95.0</td>\n",
       "      <td>2008761</td>\n",
       "      <td>54.6</td>\n",
       "      <td>4541603</td>\n",
       "      <td>2023-03-15T00:00:00.000</td>\n",
       "      <td>Sex_Female</td>\n",
       "      <td>NJ</td>\n",
       "      <td>531347</td>\n",
       "      <td>47.2</td>\n",
       "      <td>81.1</td>\n",
       "      <td>3681264</td>\n",
       "    </tr>\n",
       "    <tr>\n",
       "      <th>9</th>\n",
       "      <td>648504</td>\n",
       "      <td>91.6</td>\n",
       "      <td>363791</td>\n",
       "      <td>62.8</td>\n",
       "      <td>707832</td>\n",
       "      <td>2023-03-15T00:00:00.000</td>\n",
       "      <td>Sex_Female</td>\n",
       "      <td>HI</td>\n",
       "      <td>129270</td>\n",
       "      <td>61.4</td>\n",
       "      <td>81.8</td>\n",
       "      <td>578972</td>\n",
       "    </tr>\n",
       "    <tr>\n",
       "      <th>10</th>\n",
       "      <td>1769485</td>\n",
       "      <td>95.0</td>\n",
       "      <td>609632</td>\n",
       "      <td>42.3</td>\n",
       "      <td>1732417</td>\n",
       "      <td>2023-03-15T00:00:00.000</td>\n",
       "      <td>Ages_25-39_yrs</td>\n",
       "      <td>NJ</td>\n",
       "      <td>NaN</td>\n",
       "      <td>NaN</td>\n",
       "      <td>83.1</td>\n",
       "      <td>1439619</td>\n",
       "    </tr>\n",
       "    <tr>\n",
       "      <th>11</th>\n",
       "      <td>340827</td>\n",
       "      <td>58.5</td>\n",
       "      <td>65178</td>\n",
       "      <td>23.1</td>\n",
       "      <td>582815</td>\n",
       "      <td>2023-03-15T00:00:00.000</td>\n",
       "      <td>Ages_25-39_yrs</td>\n",
       "      <td>MS</td>\n",
       "      <td>NaN</td>\n",
       "      <td>NaN</td>\n",
       "      <td>48.4</td>\n",
       "      <td>281958</td>\n",
       "    </tr>\n",
       "    <tr>\n",
       "      <th>12</th>\n",
       "      <td>154233</td>\n",
       "      <td>95.0</td>\n",
       "      <td>112743</td>\n",
       "      <td>80.8</td>\n",
       "      <td>146406</td>\n",
       "      <td>2023-03-15T00:00:00.000</td>\n",
       "      <td>Ages_75+_yrs</td>\n",
       "      <td>UT</td>\n",
       "      <td>71768</td>\n",
       "      <td>63.7</td>\n",
       "      <td>95.0</td>\n",
       "      <td>139527</td>\n",
       "    </tr>\n",
       "    <tr>\n",
       "      <th>13</th>\n",
       "      <td>639</td>\n",
       "      <td>87.4</td>\n",
       "      <td>513</td>\n",
       "      <td>84.8</td>\n",
       "      <td>731</td>\n",
       "      <td>2023-03-15T00:00:00.000</td>\n",
       "      <td>Ages_75+_yrs</td>\n",
       "      <td>MP</td>\n",
       "      <td>239</td>\n",
       "      <td>46.6</td>\n",
       "      <td>82.8</td>\n",
       "      <td>605</td>\n",
       "    </tr>\n",
       "    <tr>\n",
       "      <th>14</th>\n",
       "      <td>94464</td>\n",
       "      <td>61.4</td>\n",
       "      <td>23149</td>\n",
       "      <td>29.2</td>\n",
       "      <td>153786</td>\n",
       "      <td>2023-03-15T00:00:00.000</td>\n",
       "      <td>Ages_18-24_yrs</td>\n",
       "      <td>WV</td>\n",
       "      <td>NaN</td>\n",
       "      <td>NaN</td>\n",
       "      <td>51.6</td>\n",
       "      <td>79277</td>\n",
       "    </tr>\n",
       "    <tr>\n",
       "      <th>15</th>\n",
       "      <td>407139</td>\n",
       "      <td>61.7</td>\n",
       "      <td>112316</td>\n",
       "      <td>32.4</td>\n",
       "      <td>659745</td>\n",
       "      <td>2023-03-15T00:00:00.000</td>\n",
       "      <td>Ages_18-24_yrs</td>\n",
       "      <td>IN</td>\n",
       "      <td>NaN</td>\n",
       "      <td>NaN</td>\n",
       "      <td>52.5</td>\n",
       "      <td>346498</td>\n",
       "    </tr>\n",
       "    <tr>\n",
       "      <th>16</th>\n",
       "      <td>21243</td>\n",
       "      <td>30.0</td>\n",
       "      <td>4573</td>\n",
       "      <td>27.0</td>\n",
       "      <td>70715</td>\n",
       "      <td>2023-03-15T00:00:00.000</td>\n",
       "      <td>Ages_5-11_yrs</td>\n",
       "      <td>ND</td>\n",
       "      <td>NaN</td>\n",
       "      <td>NaN</td>\n",
       "      <td>23.9</td>\n",
       "      <td>16925</td>\n",
       "    </tr>\n",
       "    <tr>\n",
       "      <th>17</th>\n",
       "      <td>72066</td>\n",
       "      <td>26.5</td>\n",
       "      <td>8884</td>\n",
       "      <td>16.6</td>\n",
       "      <td>272092</td>\n",
       "      <td>2023-03-15T00:00:00.000</td>\n",
       "      <td>Ages_5-11_yrs</td>\n",
       "      <td>AR</td>\n",
       "      <td>NaN</td>\n",
       "      <td>NaN</td>\n",
       "      <td>19.7</td>\n",
       "      <td>53672</td>\n",
       "    </tr>\n",
       "    <tr>\n",
       "      <th>18</th>\n",
       "      <td>6367</td>\n",
       "      <td>5.0</td>\n",
       "      <td>NaN</td>\n",
       "      <td>NaN</td>\n",
       "      <td>126465</td>\n",
       "      <td>2023-03-15T00:00:00.000</td>\n",
       "      <td>Male_Ages_2-4_yrs</td>\n",
       "      <td>TN</td>\n",
       "      <td>NaN</td>\n",
       "      <td>NaN</td>\n",
       "      <td>2.2</td>\n",
       "      <td>2809</td>\n",
       "    </tr>\n",
       "    <tr>\n",
       "      <th>19</th>\n",
       "      <td>NaN</td>\n",
       "      <td>NaN</td>\n",
       "      <td>NaN</td>\n",
       "      <td>NaN</td>\n",
       "      <td>1341</td>\n",
       "      <td>2023-03-15T00:00:00.000</td>\n",
       "      <td>Male_Ages_2-4_yrs</td>\n",
       "      <td>AS</td>\n",
       "      <td>NaN</td>\n",
       "      <td>NaN</td>\n",
       "      <td>NaN</td>\n",
       "      <td>NaN</td>\n",
       "    </tr>\n",
       "    <tr>\n",
       "      <th>20</th>\n",
       "      <td>11046</td>\n",
       "      <td>12.6</td>\n",
       "      <td>791</td>\n",
       "      <td>19.3</td>\n",
       "      <td>87338</td>\n",
       "      <td>2023-03-15T00:00:00.000</td>\n",
       "      <td>Ages_&lt;2yrs</td>\n",
       "      <td>OR</td>\n",
       "      <td>NaN</td>\n",
       "      <td>NaN</td>\n",
       "      <td>4.7</td>\n",
       "      <td>4096</td>\n",
       "    </tr>\n",
       "    <tr>\n",
       "      <th>21</th>\n",
       "      <td>11463</td>\n",
       "      <td>6.9</td>\n",
       "      <td>24</td>\n",
       "      <td>0.6</td>\n",
       "      <td>164994</td>\n",
       "      <td>2023-03-15T00:00:00.000</td>\n",
       "      <td>Ages_&lt;2yrs</td>\n",
       "      <td>AZ</td>\n",
       "      <td>NaN</td>\n",
       "      <td>NaN</td>\n",
       "      <td>2.6</td>\n",
       "      <td>4313</td>\n",
       "    </tr>\n",
       "    <tr>\n",
       "      <th>22</th>\n",
       "      <td>NaN</td>\n",
       "      <td>NaN</td>\n",
       "      <td>NaN</td>\n",
       "      <td>NaN</td>\n",
       "      <td>1261</td>\n",
       "      <td>2023-03-15T00:00:00.000</td>\n",
       "      <td>Female_Ages_&lt;2yrs</td>\n",
       "      <td>VI</td>\n",
       "      <td>NaN</td>\n",
       "      <td>NaN</td>\n",
       "      <td>NaN</td>\n",
       "      <td>NaN</td>\n",
       "    </tr>\n",
       "    <tr>\n",
       "      <th>23</th>\n",
       "      <td>165031</td>\n",
       "      <td>95.0</td>\n",
       "      <td>95729</td>\n",
       "      <td>67.5</td>\n",
       "      <td>158621</td>\n",
       "      <td>2023-03-15T00:00:00.000</td>\n",
       "      <td>Female_Ages_65-74_yrs</td>\n",
       "      <td>NV</td>\n",
       "      <td>52616</td>\n",
       "      <td>55.0</td>\n",
       "      <td>89.3</td>\n",
       "      <td>141724</td>\n",
       "    </tr>\n",
       "    <tr>\n",
       "      <th>24</th>\n",
       "      <td>57271</td>\n",
       "      <td>95.0</td>\n",
       "      <td>31359</td>\n",
       "      <td>68.2</td>\n",
       "      <td>44657</td>\n",
       "      <td>2023-03-15T00:00:00.000</td>\n",
       "      <td>Female_Ages_65-74_yrs</td>\n",
       "      <td>SD</td>\n",
       "      <td>17243</td>\n",
       "      <td>55.0</td>\n",
       "      <td>95.0</td>\n",
       "      <td>45995</td>\n",
       "    </tr>\n",
       "    <tr>\n",
       "      <th>25</th>\n",
       "      <td>2560081</td>\n",
       "      <td>82.0</td>\n",
       "      <td>678970</td>\n",
       "      <td>32.2</td>\n",
       "      <td>3121340</td>\n",
       "      <td>2023-03-15T00:00:00.000</td>\n",
       "      <td>Female_Ages_25-39_yrs</td>\n",
       "      <td>TX</td>\n",
       "      <td>NaN</td>\n",
       "      <td>NaN</td>\n",
       "      <td>67.6</td>\n",
       "      <td>2108905</td>\n",
       "    </tr>\n",
       "    <tr>\n",
       "      <th>26</th>\n",
       "      <td>6775</td>\n",
       "      <td>66.2</td>\n",
       "      <td>1004</td>\n",
       "      <td>18.5</td>\n",
       "      <td>10231</td>\n",
       "      <td>2023-03-15T00:00:00.000</td>\n",
       "      <td>Female_Ages_25-39_yrs</td>\n",
       "      <td>VI</td>\n",
       "      <td>NaN</td>\n",
       "      <td>NaN</td>\n",
       "      <td>53.0</td>\n",
       "      <td>5422</td>\n",
       "    </tr>\n",
       "    <tr>\n",
       "      <th>27</th>\n",
       "      <td>3961</td>\n",
       "      <td>95.0</td>\n",
       "      <td>2258</td>\n",
       "      <td>59.8</td>\n",
       "      <td>3570</td>\n",
       "      <td>2023-03-15T00:00:00.000</td>\n",
       "      <td>Male_Ages_40-49_yrs</td>\n",
       "      <td>MP</td>\n",
       "      <td>NaN</td>\n",
       "      <td>NaN</td>\n",
       "      <td>95.0</td>\n",
       "      <td>3779</td>\n",
       "    </tr>\n",
       "    <tr>\n",
       "      <th>28</th>\n",
       "      <td>451137</td>\n",
       "      <td>65.6</td>\n",
       "      <td>209559</td>\n",
       "      <td>50.3</td>\n",
       "      <td>687423</td>\n",
       "      <td>2023-03-15T00:00:00.000</td>\n",
       "      <td>Male_Ages_40-49_yrs</td>\n",
       "      <td>OH</td>\n",
       "      <td>NaN</td>\n",
       "      <td>NaN</td>\n",
       "      <td>60.7</td>\n",
       "      <td>416951</td>\n",
       "    </tr>\n",
       "    <tr>\n",
       "      <th>29</th>\n",
       "      <td>463264</td>\n",
       "      <td>84.7</td>\n",
       "      <td>306522</td>\n",
       "      <td>70.2</td>\n",
       "      <td>547071</td>\n",
       "      <td>2023-03-15T00:00:00.000</td>\n",
       "      <td>Male_Ages_50-64_yrs</td>\n",
       "      <td>MN</td>\n",
       "      <td>170165</td>\n",
       "      <td>55.5</td>\n",
       "      <td>79.8</td>\n",
       "      <td>436536</td>\n",
       "    </tr>\n",
       "    <tr>\n",
       "      <th>...</th>\n",
       "      <td>...</td>\n",
       "      <td>...</td>\n",
       "      <td>...</td>\n",
       "      <td>...</td>\n",
       "      <td>...</td>\n",
       "      <td>...</td>\n",
       "      <td>...</td>\n",
       "      <td>...</td>\n",
       "      <td>...</td>\n",
       "      <td>...</td>\n",
       "      <td>...</td>\n",
       "      <td>...</td>\n",
       "    </tr>\n",
       "    <tr>\n",
       "      <th>970</th>\n",
       "      <td>93166782</td>\n",
       "      <td>85.3</td>\n",
       "      <td>33966317</td>\n",
       "      <td>43.2</td>\n",
       "      <td>109178346</td>\n",
       "      <td>2023-03-15T00:00:00.000</td>\n",
       "      <td>Ages_25-49_yrs</td>\n",
       "      <td>US</td>\n",
       "      <td>NaN</td>\n",
       "      <td>NaN</td>\n",
       "      <td>72.1</td>\n",
       "      <td>78705420</td>\n",
       "    </tr>\n",
       "    <tr>\n",
       "      <th>971</th>\n",
       "      <td>99669</td>\n",
       "      <td>64.9</td>\n",
       "      <td>21341</td>\n",
       "      <td>26.2</td>\n",
       "      <td>153660</td>\n",
       "      <td>2023-03-15T00:00:00.000</td>\n",
       "      <td>Male_Ages_18-24_yrs</td>\n",
       "      <td>KS</td>\n",
       "      <td>NaN</td>\n",
       "      <td>NaN</td>\n",
       "      <td>53.0</td>\n",
       "      <td>81463</td>\n",
       "    </tr>\n",
       "    <tr>\n",
       "      <th>972</th>\n",
       "      <td>10360</td>\n",
       "      <td>95.0</td>\n",
       "      <td>3572</td>\n",
       "      <td>38.0</td>\n",
       "      <td>10256</td>\n",
       "      <td>2023-03-15T00:00:00.000</td>\n",
       "      <td>Male_Ages_18-24_yrs</td>\n",
       "      <td>GU</td>\n",
       "      <td>NaN</td>\n",
       "      <td>NaN</td>\n",
       "      <td>91.6</td>\n",
       "      <td>9392</td>\n",
       "    </tr>\n",
       "    <tr>\n",
       "      <th>973</th>\n",
       "      <td>425156</td>\n",
       "      <td>94.7</td>\n",
       "      <td>307142</td>\n",
       "      <td>77.8</td>\n",
       "      <td>449006</td>\n",
       "      <td>2023-03-15T00:00:00.000</td>\n",
       "      <td>Ages_75+_yrs</td>\n",
       "      <td>IN</td>\n",
       "      <td>175843</td>\n",
       "      <td>57.3</td>\n",
       "      <td>88.0</td>\n",
       "      <td>395006</td>\n",
       "    </tr>\n",
       "    <tr>\n",
       "      <th>974</th>\n",
       "      <td>707743</td>\n",
       "      <td>95.0</td>\n",
       "      <td>531663</td>\n",
       "      <td>81.8</td>\n",
       "      <td>727821</td>\n",
       "      <td>2023-03-15T00:00:00.000</td>\n",
       "      <td>Ages_75+_yrs</td>\n",
       "      <td>MI</td>\n",
       "      <td>351191</td>\n",
       "      <td>66.1</td>\n",
       "      <td>89.3</td>\n",
       "      <td>649872</td>\n",
       "    </tr>\n",
       "    <tr>\n",
       "      <th>975</th>\n",
       "      <td>28899</td>\n",
       "      <td>12.7</td>\n",
       "      <td>2265</td>\n",
       "      <td>20.7</td>\n",
       "      <td>227811</td>\n",
       "      <td>2023-03-15T00:00:00.000</td>\n",
       "      <td>Ages_&lt;5yrs</td>\n",
       "      <td>OR</td>\n",
       "      <td>NaN</td>\n",
       "      <td>NaN</td>\n",
       "      <td>4.8</td>\n",
       "      <td>10960</td>\n",
       "    </tr>\n",
       "    <tr>\n",
       "      <th>976</th>\n",
       "      <td>33</td>\n",
       "      <td>0.5</td>\n",
       "      <td>NaN</td>\n",
       "      <td>NaN</td>\n",
       "      <td>6666</td>\n",
       "      <td>2023-03-15T00:00:00.000</td>\n",
       "      <td>Ages_&lt;5yrs</td>\n",
       "      <td>VI</td>\n",
       "      <td>NaN</td>\n",
       "      <td>NaN</td>\n",
       "      <td>NaN</td>\n",
       "      <td>NaN</td>\n",
       "    </tr>\n",
       "    <tr>\n",
       "      <th>977</th>\n",
       "      <td>1091310</td>\n",
       "      <td>95.0</td>\n",
       "      <td>637024</td>\n",
       "      <td>65.9</td>\n",
       "      <td>1046971</td>\n",
       "      <td>2023-03-15T00:00:00.000</td>\n",
       "      <td>Male_Ages_65-74_yrs</td>\n",
       "      <td>TX</td>\n",
       "      <td>335193</td>\n",
       "      <td>52.6</td>\n",
       "      <td>92.3</td>\n",
       "      <td>966324</td>\n",
       "    </tr>\n",
       "    <tr>\n",
       "      <th>978</th>\n",
       "      <td>305377</td>\n",
       "      <td>95.0</td>\n",
       "      <td>192349</td>\n",
       "      <td>69.0</td>\n",
       "      <td>316372</td>\n",
       "      <td>2023-03-15T00:00:00.000</td>\n",
       "      <td>Male_Ages_65-74_yrs</td>\n",
       "      <td>TN</td>\n",
       "      <td>99055</td>\n",
       "      <td>51.5</td>\n",
       "      <td>88.1</td>\n",
       "      <td>278756</td>\n",
       "    </tr>\n",
       "    <tr>\n",
       "      <th>979</th>\n",
       "      <td>15795</td>\n",
       "      <td>17.5</td>\n",
       "      <td>1286</td>\n",
       "      <td>13.0</td>\n",
       "      <td>90397</td>\n",
       "      <td>2023-03-15T00:00:00.000</td>\n",
       "      <td>Male_Ages_&lt;2yrs</td>\n",
       "      <td>WA</td>\n",
       "      <td>NaN</td>\n",
       "      <td>NaN</td>\n",
       "      <td>10.9</td>\n",
       "      <td>9861</td>\n",
       "    </tr>\n",
       "    <tr>\n",
       "      <th>980</th>\n",
       "      <td>77</td>\n",
       "      <td>9.4</td>\n",
       "      <td>NaN</td>\n",
       "      <td>NaN</td>\n",
       "      <td>817</td>\n",
       "      <td>2023-03-15T00:00:00.000</td>\n",
       "      <td>Male_Ages_&lt;2yrs</td>\n",
       "      <td>MP</td>\n",
       "      <td>NaN</td>\n",
       "      <td>NaN</td>\n",
       "      <td>1.5</td>\n",
       "      <td>12</td>\n",
       "    </tr>\n",
       "    <tr>\n",
       "      <th>981</th>\n",
       "      <td>7936</td>\n",
       "      <td>95.0</td>\n",
       "      <td>4655</td>\n",
       "      <td>65.1</td>\n",
       "      <td>7305</td>\n",
       "      <td>2023-03-15T00:00:00.000</td>\n",
       "      <td>Male_Ages_25-49_yrs</td>\n",
       "      <td>AS</td>\n",
       "      <td>NaN</td>\n",
       "      <td>NaN</td>\n",
       "      <td>95.0</td>\n",
       "      <td>7152</td>\n",
       "    </tr>\n",
       "    <tr>\n",
       "      <th>982</th>\n",
       "      <td>183404</td>\n",
       "      <td>92.2</td>\n",
       "      <td>74007</td>\n",
       "      <td>46.7</td>\n",
       "      <td>198976</td>\n",
       "      <td>2023-03-15T00:00:00.000</td>\n",
       "      <td>Male_Ages_25-49_yrs</td>\n",
       "      <td>ME</td>\n",
       "      <td>NaN</td>\n",
       "      <td>NaN</td>\n",
       "      <td>79.6</td>\n",
       "      <td>158367</td>\n",
       "    </tr>\n",
       "    <tr>\n",
       "      <th>983</th>\n",
       "      <td>622721</td>\n",
       "      <td>10.6</td>\n",
       "      <td>24283</td>\n",
       "      <td>7.1</td>\n",
       "      <td>5899952</td>\n",
       "      <td>2023-03-15T00:00:00.000</td>\n",
       "      <td>Female_Ages_2-4_yrs</td>\n",
       "      <td>US</td>\n",
       "      <td>NaN</td>\n",
       "      <td>NaN</td>\n",
       "      <td>5.8</td>\n",
       "      <td>340496</td>\n",
       "    </tr>\n",
       "    <tr>\n",
       "      <th>984</th>\n",
       "      <td>14341</td>\n",
       "      <td>4.2</td>\n",
       "      <td>294</td>\n",
       "      <td>4.0</td>\n",
       "      <td>338944</td>\n",
       "      <td>2023-03-15T00:00:00.000</td>\n",
       "      <td>Female_Ages_2-4_yrs</td>\n",
       "      <td>FL</td>\n",
       "      <td>NaN</td>\n",
       "      <td>NaN</td>\n",
       "      <td>2.2</td>\n",
       "      <td>7394</td>\n",
       "    </tr>\n",
       "    <tr>\n",
       "      <th>985</th>\n",
       "      <td>173275</td>\n",
       "      <td>38.1</td>\n",
       "      <td>19699</td>\n",
       "      <td>15.9</td>\n",
       "      <td>454474</td>\n",
       "      <td>2023-03-15T00:00:00.000</td>\n",
       "      <td>Male_Ages_5-11_yrs</td>\n",
       "      <td>NC</td>\n",
       "      <td>NaN</td>\n",
       "      <td>NaN</td>\n",
       "      <td>27.3</td>\n",
       "      <td>124275</td>\n",
       "    </tr>\n",
       "    <tr>\n",
       "      <th>986</th>\n",
       "      <td>71932</td>\n",
       "      <td>38.3</td>\n",
       "      <td>13716</td>\n",
       "      <td>23.4</td>\n",
       "      <td>187691</td>\n",
       "      <td>2023-03-15T00:00:00.000</td>\n",
       "      <td>Male_Ages_5-11_yrs</td>\n",
       "      <td>UT</td>\n",
       "      <td>NaN</td>\n",
       "      <td>NaN</td>\n",
       "      <td>31.2</td>\n",
       "      <td>58628</td>\n",
       "    </tr>\n",
       "    <tr>\n",
       "      <th>987</th>\n",
       "      <td>NaN</td>\n",
       "      <td>NaN</td>\n",
       "      <td>NaN</td>\n",
       "      <td>NaN</td>\n",
       "      <td>NaN</td>\n",
       "      <td>2023-03-15T00:00:00.000</td>\n",
       "      <td>Age_Unknown</td>\n",
       "      <td>AK</td>\n",
       "      <td>NaN</td>\n",
       "      <td>NaN</td>\n",
       "      <td>NaN</td>\n",
       "      <td>NaN</td>\n",
       "    </tr>\n",
       "    <tr>\n",
       "      <th>988</th>\n",
       "      <td>40</td>\n",
       "      <td>NaN</td>\n",
       "      <td>NaN</td>\n",
       "      <td>NaN</td>\n",
       "      <td>NaN</td>\n",
       "      <td>2023-03-15T00:00:00.000</td>\n",
       "      <td>Age_Unknown</td>\n",
       "      <td>CT</td>\n",
       "      <td>NaN</td>\n",
       "      <td>NaN</td>\n",
       "      <td>NaN</td>\n",
       "      <td>15</td>\n",
       "    </tr>\n",
       "    <tr>\n",
       "      <th>989</th>\n",
       "      <td>3469909</td>\n",
       "      <td>95.0</td>\n",
       "      <td>2058631</td>\n",
       "      <td>65.9</td>\n",
       "      <td>3559549</td>\n",
       "      <td>2023-03-15T00:00:00.000</td>\n",
       "      <td>Male_Ages_50-64_yrs</td>\n",
       "      <td>CA</td>\n",
       "      <td>1005116</td>\n",
       "      <td>48.8</td>\n",
       "      <td>87.7</td>\n",
       "      <td>3121964</td>\n",
       "    </tr>\n",
       "    <tr>\n",
       "      <th>990</th>\n",
       "      <td>1084024</td>\n",
       "      <td>95.0</td>\n",
       "      <td>381140</td>\n",
       "      <td>47.2</td>\n",
       "      <td>766736</td>\n",
       "      <td>2023-03-15T00:00:00.000</td>\n",
       "      <td>Male_Ages_65+_yrs</td>\n",
       "      <td>NC</td>\n",
       "      <td>145743</td>\n",
       "      <td>38.2</td>\n",
       "      <td>95.0</td>\n",
       "      <td>806751</td>\n",
       "    </tr>\n",
       "    <tr>\n",
       "      <th>991</th>\n",
       "      <td>3716</td>\n",
       "      <td>2.4</td>\n",
       "      <td>NaN</td>\n",
       "      <td>NaN</td>\n",
       "      <td>153377</td>\n",
       "      <td>2023-03-15T00:00:00.000</td>\n",
       "      <td>Male_Ages_&lt;5yrs</td>\n",
       "      <td>LA</td>\n",
       "      <td>NaN</td>\n",
       "      <td>NaN</td>\n",
       "      <td>1.1</td>\n",
       "      <td>1621</td>\n",
       "    </tr>\n",
       "    <tr>\n",
       "      <th>992</th>\n",
       "      <td>2414</td>\n",
       "      <td>8.7</td>\n",
       "      <td>NaN</td>\n",
       "      <td>NaN</td>\n",
       "      <td>27791</td>\n",
       "      <td>2023-03-15T00:00:00.000</td>\n",
       "      <td>Male_Ages_&lt;5yrs</td>\n",
       "      <td>ND</td>\n",
       "      <td>NaN</td>\n",
       "      <td>NaN</td>\n",
       "      <td>3.0</td>\n",
       "      <td>838</td>\n",
       "    </tr>\n",
       "    <tr>\n",
       "      <th>993</th>\n",
       "      <td>2138</td>\n",
       "      <td>17.8</td>\n",
       "      <td>42</td>\n",
       "      <td>3.6</td>\n",
       "      <td>12011</td>\n",
       "      <td>2023-03-15T00:00:00.000</td>\n",
       "      <td>Female_Ages_&lt;2yrs</td>\n",
       "      <td>ME</td>\n",
       "      <td>NaN</td>\n",
       "      <td>NaN</td>\n",
       "      <td>9.8</td>\n",
       "      <td>1173</td>\n",
       "    </tr>\n",
       "    <tr>\n",
       "      <th>994</th>\n",
       "      <td>2995</td>\n",
       "      <td>32.8</td>\n",
       "      <td>51</td>\n",
       "      <td>3.0</td>\n",
       "      <td>9131</td>\n",
       "      <td>2023-03-15T00:00:00.000</td>\n",
       "      <td>Female_Ages_&lt;2yrs</td>\n",
       "      <td>DC</td>\n",
       "      <td>NaN</td>\n",
       "      <td>NaN</td>\n",
       "      <td>18.7</td>\n",
       "      <td>1711</td>\n",
       "    </tr>\n",
       "    <tr>\n",
       "      <th>995</th>\n",
       "      <td>116956</td>\n",
       "      <td>95.0</td>\n",
       "      <td>54183</td>\n",
       "      <td>55.7</td>\n",
       "      <td>111427</td>\n",
       "      <td>2023-03-15T00:00:00.000</td>\n",
       "      <td>Ages_25-39_yrs</td>\n",
       "      <td>VT</td>\n",
       "      <td>NaN</td>\n",
       "      <td>NaN</td>\n",
       "      <td>87.3</td>\n",
       "      <td>97291</td>\n",
       "    </tr>\n",
       "    <tr>\n",
       "      <th>996</th>\n",
       "      <td>394581</td>\n",
       "      <td>94.0</td>\n",
       "      <td>140558</td>\n",
       "      <td>45.4</td>\n",
       "      <td>419631</td>\n",
       "      <td>2023-03-15T00:00:00.000</td>\n",
       "      <td>Ages_25-39_yrs</td>\n",
       "      <td>NM</td>\n",
       "      <td>NaN</td>\n",
       "      <td>NaN</td>\n",
       "      <td>73.7</td>\n",
       "      <td>309263</td>\n",
       "    </tr>\n",
       "    <tr>\n",
       "      <th>997</th>\n",
       "      <td>217205</td>\n",
       "      <td>75.1</td>\n",
       "      <td>53962</td>\n",
       "      <td>30.8</td>\n",
       "      <td>289347</td>\n",
       "      <td>2023-03-15T00:00:00.000</td>\n",
       "      <td>Male_Ages_12-17_yrs</td>\n",
       "      <td>AZ</td>\n",
       "      <td>NaN</td>\n",
       "      <td>NaN</td>\n",
       "      <td>60.6</td>\n",
       "      <td>175309</td>\n",
       "    </tr>\n",
       "    <tr>\n",
       "      <th>998</th>\n",
       "      <td>119147</td>\n",
       "      <td>45.3</td>\n",
       "      <td>24692</td>\n",
       "      <td>24.4</td>\n",
       "      <td>262978</td>\n",
       "      <td>2023-03-15T00:00:00.000</td>\n",
       "      <td>Male_Ages_12-17_yrs</td>\n",
       "      <td>TN</td>\n",
       "      <td>NaN</td>\n",
       "      <td>NaN</td>\n",
       "      <td>38.4</td>\n",
       "      <td>101095</td>\n",
       "    </tr>\n",
       "    <tr>\n",
       "      <th>999</th>\n",
       "      <td>1625352</td>\n",
       "      <td>77.8</td>\n",
       "      <td>337925</td>\n",
       "      <td>25.9</td>\n",
       "      <td>2090248</td>\n",
       "      <td>2023-03-15T00:00:00.000</td>\n",
       "      <td>Male_Ages_25-39_yrs</td>\n",
       "      <td>FL</td>\n",
       "      <td>NaN</td>\n",
       "      <td>NaN</td>\n",
       "      <td>62.5</td>\n",
       "      <td>1305940</td>\n",
       "    </tr>\n",
       "  </tbody>\n",
       "</table>\n",
       "<p>1000 rows × 12 columns</p>\n",
       "</div>"
      ],
      "text/plain": [
       "    administered_dose1 administered_dose1_pct_agegroup booster_doses  \\\n",
       "0               356723                            68.6        123845   \n",
       "1               157977                            69.8         33965   \n",
       "2               395088                            95.0        207015   \n",
       "3               205415                            74.1         69799   \n",
       "4                10312                            29.7          2215   \n",
       "5                69779                            39.2         13270   \n",
       "6               186406                            93.4        121614   \n",
       "7                48993                            95.0         32108   \n",
       "8              4382926                            95.0       2008761   \n",
       "9               648504                            91.6        363791   \n",
       "10             1769485                            95.0        609632   \n",
       "11              340827                            58.5         65178   \n",
       "12              154233                            95.0        112743   \n",
       "13                 639                            87.4           513   \n",
       "14               94464                            61.4         23149   \n",
       "15              407139                            61.7        112316   \n",
       "16               21243                            30.0          4573   \n",
       "17               72066                            26.5          8884   \n",
       "18                6367                             5.0           NaN   \n",
       "19                 NaN                             NaN           NaN   \n",
       "20               11046                            12.6           791   \n",
       "21               11463                             6.9            24   \n",
       "22                 NaN                             NaN           NaN   \n",
       "23              165031                            95.0         95729   \n",
       "24               57271                            95.0         31359   \n",
       "25             2560081                            82.0        678970   \n",
       "26                6775                            66.2          1004   \n",
       "27                3961                            95.0          2258   \n",
       "28              451137                            65.6        209559   \n",
       "29              463264                            84.7        306522   \n",
       "..                 ...                             ...           ...   \n",
       "970           93166782                            85.3      33966317   \n",
       "971              99669                            64.9         21341   \n",
       "972              10360                            95.0          3572   \n",
       "973             425156                            94.7        307142   \n",
       "974             707743                            95.0        531663   \n",
       "975              28899                            12.7          2265   \n",
       "976                 33                             0.5           NaN   \n",
       "977            1091310                            95.0        637024   \n",
       "978             305377                            95.0        192349   \n",
       "979              15795                            17.5          1286   \n",
       "980                 77                             9.4           NaN   \n",
       "981               7936                            95.0          4655   \n",
       "982             183404                            92.2         74007   \n",
       "983             622721                            10.6         24283   \n",
       "984              14341                             4.2           294   \n",
       "985             173275                            38.1         19699   \n",
       "986              71932                            38.3         13716   \n",
       "987                NaN                             NaN           NaN   \n",
       "988                 40                             NaN           NaN   \n",
       "989            3469909                            95.0       2058631   \n",
       "990            1084024                            95.0        381140   \n",
       "991               3716                             2.4           NaN   \n",
       "992               2414                             8.7           NaN   \n",
       "993               2138                            17.8            42   \n",
       "994               2995                            32.8            51   \n",
       "995             116956                            95.0         54183   \n",
       "996             394581                            94.0        140558   \n",
       "997             217205                            75.1         53962   \n",
       "998             119147                            45.3         24692   \n",
       "999            1625352                            77.8        337925   \n",
       "\n",
       "    booster_doses_vax_pct_agegroup     census                     date  \\\n",
       "0                             39.5     520105  2023-03-15T00:00:00.000   \n",
       "1                             26.7     226415  2023-03-15T00:00:00.000   \n",
       "2                             59.1     390426  2023-03-15T00:00:00.000   \n",
       "3                             38.3     277232  2023-03-15T00:00:00.000   \n",
       "4                             27.0      34693  2023-03-15T00:00:00.000   \n",
       "5                             23.2     178207  2023-03-15T00:00:00.000   \n",
       "6                             71.3     199619  2023-03-15T00:00:00.000   \n",
       "7                             72.7      51419  2023-03-15T00:00:00.000   \n",
       "8                             54.6    4541603  2023-03-15T00:00:00.000   \n",
       "9                             62.8     707832  2023-03-15T00:00:00.000   \n",
       "10                            42.3    1732417  2023-03-15T00:00:00.000   \n",
       "11                            23.1     582815  2023-03-15T00:00:00.000   \n",
       "12                            80.8     146406  2023-03-15T00:00:00.000   \n",
       "13                            84.8        731  2023-03-15T00:00:00.000   \n",
       "14                            29.2     153786  2023-03-15T00:00:00.000   \n",
       "15                            32.4     659745  2023-03-15T00:00:00.000   \n",
       "16                            27.0      70715  2023-03-15T00:00:00.000   \n",
       "17                            16.6     272092  2023-03-15T00:00:00.000   \n",
       "18                             NaN     126465  2023-03-15T00:00:00.000   \n",
       "19                             NaN       1341  2023-03-15T00:00:00.000   \n",
       "20                            19.3      87338  2023-03-15T00:00:00.000   \n",
       "21                             0.6     164994  2023-03-15T00:00:00.000   \n",
       "22                             NaN       1261  2023-03-15T00:00:00.000   \n",
       "23                            67.5     158621  2023-03-15T00:00:00.000   \n",
       "24                            68.2      44657  2023-03-15T00:00:00.000   \n",
       "25                            32.2    3121340  2023-03-15T00:00:00.000   \n",
       "26                            18.5      10231  2023-03-15T00:00:00.000   \n",
       "27                            59.8       3570  2023-03-15T00:00:00.000   \n",
       "28                            50.3     687423  2023-03-15T00:00:00.000   \n",
       "29                            70.2     547071  2023-03-15T00:00:00.000   \n",
       "..                             ...        ...                      ...   \n",
       "970                           43.2  109178346  2023-03-15T00:00:00.000   \n",
       "971                           26.2     153660  2023-03-15T00:00:00.000   \n",
       "972                           38.0      10256  2023-03-15T00:00:00.000   \n",
       "973                           77.8     449006  2023-03-15T00:00:00.000   \n",
       "974                           81.8     727821  2023-03-15T00:00:00.000   \n",
       "975                           20.7     227811  2023-03-15T00:00:00.000   \n",
       "976                            NaN       6666  2023-03-15T00:00:00.000   \n",
       "977                           65.9    1046971  2023-03-15T00:00:00.000   \n",
       "978                           69.0     316372  2023-03-15T00:00:00.000   \n",
       "979                           13.0      90397  2023-03-15T00:00:00.000   \n",
       "980                            NaN        817  2023-03-15T00:00:00.000   \n",
       "981                           65.1       7305  2023-03-15T00:00:00.000   \n",
       "982                           46.7     198976  2023-03-15T00:00:00.000   \n",
       "983                            7.1    5899952  2023-03-15T00:00:00.000   \n",
       "984                            4.0     338944  2023-03-15T00:00:00.000   \n",
       "985                           15.9     454474  2023-03-15T00:00:00.000   \n",
       "986                           23.4     187691  2023-03-15T00:00:00.000   \n",
       "987                            NaN        NaN  2023-03-15T00:00:00.000   \n",
       "988                            NaN        NaN  2023-03-15T00:00:00.000   \n",
       "989                           65.9    3559549  2023-03-15T00:00:00.000   \n",
       "990                           47.2     766736  2023-03-15T00:00:00.000   \n",
       "991                            NaN     153377  2023-03-15T00:00:00.000   \n",
       "992                            NaN      27791  2023-03-15T00:00:00.000   \n",
       "993                            3.6      12011  2023-03-15T00:00:00.000   \n",
       "994                            3.0       9131  2023-03-15T00:00:00.000   \n",
       "995                           55.7     111427  2023-03-15T00:00:00.000   \n",
       "996                           45.4     419631  2023-03-15T00:00:00.000   \n",
       "997                           30.8     289347  2023-03-15T00:00:00.000   \n",
       "998                           24.4     262978  2023-03-15T00:00:00.000   \n",
       "999                           25.9    2090248  2023-03-15T00:00:00.000   \n",
       "\n",
       "      demographic_category location second_booster  \\\n",
       "0    Female_Ages_18-24_yrs       OH            NaN   \n",
       "1    Female_Ages_18-24_yrs       SC            NaN   \n",
       "2    Female_Ages_40-49_yrs       MD            NaN   \n",
       "3    Female_Ages_40-49_yrs       LA            NaN   \n",
       "4     Female_Ages_5-11_yrs       ND            NaN   \n",
       "5     Female_Ages_5-11_yrs       UT            NaN   \n",
       "6      Female_Ages_65+_yrs       WV          64667   \n",
       "7      Female_Ages_65+_yrs       WY          18285   \n",
       "8               Sex_Female       NJ         531347   \n",
       "9               Sex_Female       HI         129270   \n",
       "10          Ages_25-39_yrs       NJ            NaN   \n",
       "11          Ages_25-39_yrs       MS            NaN   \n",
       "12            Ages_75+_yrs       UT          71768   \n",
       "13            Ages_75+_yrs       MP            239   \n",
       "14          Ages_18-24_yrs       WV            NaN   \n",
       "15          Ages_18-24_yrs       IN            NaN   \n",
       "16           Ages_5-11_yrs       ND            NaN   \n",
       "17           Ages_5-11_yrs       AR            NaN   \n",
       "18       Male_Ages_2-4_yrs       TN            NaN   \n",
       "19       Male_Ages_2-4_yrs       AS            NaN   \n",
       "20              Ages_<2yrs       OR            NaN   \n",
       "21              Ages_<2yrs       AZ            NaN   \n",
       "22       Female_Ages_<2yrs       VI            NaN   \n",
       "23   Female_Ages_65-74_yrs       NV          52616   \n",
       "24   Female_Ages_65-74_yrs       SD          17243   \n",
       "25   Female_Ages_25-39_yrs       TX            NaN   \n",
       "26   Female_Ages_25-39_yrs       VI            NaN   \n",
       "27     Male_Ages_40-49_yrs       MP            NaN   \n",
       "28     Male_Ages_40-49_yrs       OH            NaN   \n",
       "29     Male_Ages_50-64_yrs       MN         170165   \n",
       "..                     ...      ...            ...   \n",
       "970         Ages_25-49_yrs       US            NaN   \n",
       "971    Male_Ages_18-24_yrs       KS            NaN   \n",
       "972    Male_Ages_18-24_yrs       GU            NaN   \n",
       "973           Ages_75+_yrs       IN         175843   \n",
       "974           Ages_75+_yrs       MI         351191   \n",
       "975             Ages_<5yrs       OR            NaN   \n",
       "976             Ages_<5yrs       VI            NaN   \n",
       "977    Male_Ages_65-74_yrs       TX         335193   \n",
       "978    Male_Ages_65-74_yrs       TN          99055   \n",
       "979        Male_Ages_<2yrs       WA            NaN   \n",
       "980        Male_Ages_<2yrs       MP            NaN   \n",
       "981    Male_Ages_25-49_yrs       AS            NaN   \n",
       "982    Male_Ages_25-49_yrs       ME            NaN   \n",
       "983    Female_Ages_2-4_yrs       US            NaN   \n",
       "984    Female_Ages_2-4_yrs       FL            NaN   \n",
       "985     Male_Ages_5-11_yrs       NC            NaN   \n",
       "986     Male_Ages_5-11_yrs       UT            NaN   \n",
       "987            Age_Unknown       AK            NaN   \n",
       "988            Age_Unknown       CT            NaN   \n",
       "989    Male_Ages_50-64_yrs       CA        1005116   \n",
       "990      Male_Ages_65+_yrs       NC         145743   \n",
       "991        Male_Ages_<5yrs       LA            NaN   \n",
       "992        Male_Ages_<5yrs       ND            NaN   \n",
       "993      Female_Ages_<2yrs       ME            NaN   \n",
       "994      Female_Ages_<2yrs       DC            NaN   \n",
       "995         Ages_25-39_yrs       VT            NaN   \n",
       "996         Ages_25-39_yrs       NM            NaN   \n",
       "997    Male_Ages_12-17_yrs       AZ            NaN   \n",
       "998    Male_Ages_12-17_yrs       TN            NaN   \n",
       "999    Male_Ages_25-39_yrs       FL            NaN   \n",
       "\n",
       "    second_booster_vax_pct_agegroup series_complete_pop_pct_agegroup  \\\n",
       "0                               NaN                             60.2   \n",
       "1                               NaN                             56.1   \n",
       "2                               NaN                             89.8   \n",
       "3                               NaN                             65.7   \n",
       "4                               NaN                             23.7   \n",
       "5                               NaN                             32.1   \n",
       "6                              53.2                             85.5   \n",
       "7                              56.9                             85.9   \n",
       "8                              47.2                             81.1   \n",
       "9                              61.4                             81.8   \n",
       "10                              NaN                             83.1   \n",
       "11                              NaN                             48.4   \n",
       "12                             63.7                             95.0   \n",
       "13                             46.6                             82.8   \n",
       "14                              NaN                             51.6   \n",
       "15                              NaN                             52.5   \n",
       "16                              NaN                             23.9   \n",
       "17                              NaN                             19.7   \n",
       "18                              NaN                              2.2   \n",
       "19                              NaN                              NaN   \n",
       "20                              NaN                              4.7   \n",
       "21                              NaN                              2.6   \n",
       "22                              NaN                              NaN   \n",
       "23                             55.0                             89.3   \n",
       "24                             55.0                             95.0   \n",
       "25                              NaN                             67.6   \n",
       "26                              NaN                             53.0   \n",
       "27                              NaN                             95.0   \n",
       "28                              NaN                             60.7   \n",
       "29                             55.5                             79.8   \n",
       "..                              ...                              ...   \n",
       "970                             NaN                             72.1   \n",
       "971                             NaN                             53.0   \n",
       "972                             NaN                             91.6   \n",
       "973                            57.3                             88.0   \n",
       "974                            66.1                             89.3   \n",
       "975                             NaN                              4.8   \n",
       "976                             NaN                              NaN   \n",
       "977                            52.6                             92.3   \n",
       "978                            51.5                             88.1   \n",
       "979                             NaN                             10.9   \n",
       "980                             NaN                              1.5   \n",
       "981                             NaN                             95.0   \n",
       "982                             NaN                             79.6   \n",
       "983                             NaN                              5.8   \n",
       "984                             NaN                              2.2   \n",
       "985                             NaN                             27.3   \n",
       "986                             NaN                             31.2   \n",
       "987                             NaN                              NaN   \n",
       "988                             NaN                              NaN   \n",
       "989                            48.8                             87.7   \n",
       "990                            38.2                             95.0   \n",
       "991                             NaN                              1.1   \n",
       "992                             NaN                              3.0   \n",
       "993                             NaN                              9.8   \n",
       "994                             NaN                             18.7   \n",
       "995                             NaN                             87.3   \n",
       "996                             NaN                             73.7   \n",
       "997                             NaN                             60.6   \n",
       "998                             NaN                             38.4   \n",
       "999                             NaN                             62.5   \n",
       "\n",
       "    series_complete_yes  \n",
       "0                313339  \n",
       "1                127030  \n",
       "2                350560  \n",
       "3                182218  \n",
       "4                  8216  \n",
       "5                 57126  \n",
       "6                170642  \n",
       "7                 44164  \n",
       "8               3681264  \n",
       "9                578972  \n",
       "10              1439619  \n",
       "11               281958  \n",
       "12               139527  \n",
       "13                  605  \n",
       "14                79277  \n",
       "15               346498  \n",
       "16                16925  \n",
       "17                53672  \n",
       "18                 2809  \n",
       "19                  NaN  \n",
       "20                 4096  \n",
       "21                 4313  \n",
       "22                  NaN  \n",
       "23               141724  \n",
       "24                45995  \n",
       "25              2108905  \n",
       "26                 5422  \n",
       "27                 3779  \n",
       "28               416951  \n",
       "29               436536  \n",
       "..                  ...  \n",
       "970            78705420  \n",
       "971               81463  \n",
       "972                9392  \n",
       "973              395006  \n",
       "974              649872  \n",
       "975               10960  \n",
       "976                 NaN  \n",
       "977              966324  \n",
       "978              278756  \n",
       "979                9861  \n",
       "980                  12  \n",
       "981                7152  \n",
       "982              158367  \n",
       "983              340496  \n",
       "984                7394  \n",
       "985              124275  \n",
       "986               58628  \n",
       "987                 NaN  \n",
       "988                  15  \n",
       "989             3121964  \n",
       "990              806751  \n",
       "991                1621  \n",
       "992                 838  \n",
       "993                1173  \n",
       "994                1711  \n",
       "995               97291  \n",
       "996              309263  \n",
       "997              175309  \n",
       "998              101095  \n",
       "999             1305940  \n",
       "\n",
       "[1000 rows x 12 columns]"
      ]
     },
     "execution_count": 26,
     "metadata": {},
     "output_type": "execute_result"
    }
   ],
   "source": [
    "# Filter to only 2023/03/15 data, returned as JSON from API / converted to Python list of\n",
    "# dictionaries by sodapy.\n",
    "result2 = client.get(\"5i5k-6cmh\", where=\"date='2023-03-15T00:00:00.000'\")\n",
    "\n",
    "# Convert to pandas DataFrame\n",
    "result2_df = pd.DataFrame.from_records(result2)\n",
    "\n",
    "result2_df\n"
   ]
  }
 ],
 "metadata": {
  "kernelspec": {
   "display_name": "Python 3 (ipykernel)",
   "language": "python",
   "name": "python3"
  },
  "language_info": {
   "codemirror_mode": {
    "name": "ipython",
    "version": 3
   },
   "file_extension": ".py",
   "mimetype": "text/x-python",
   "name": "python",
   "nbconvert_exporter": "python",
   "pygments_lexer": "ipython3",
   "version": "3.7.3"
  }
 },
 "nbformat": 4,
 "nbformat_minor": 5
}
